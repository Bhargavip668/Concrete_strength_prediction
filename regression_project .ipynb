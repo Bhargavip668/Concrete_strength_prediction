{
 "cells": [
  {
   "cell_type": "markdown",
   "metadata": {},
   "source": [
    "Dataset Description\n",
    "\n",
    "Cement (cement) -- quantitative -- kg in a m3 mixture -- Input Variable\n",
    "Blast Furnace Slag (slag) -- quantitative -- kg in a m3 mixture -- Input Variable\n",
    "Fly Ash (ash) -- quantitative -- kg in a m3 mixture -- Input Variable\n",
    "Water (water) -- quantitative -- kg in a m3 mixture -- Input Variable\n",
    "Superplasticizer (superplastic) -- quantitative -- kg in a m3 mixture -- Input Variable\n",
    "Coarse Aggregate (coarseagg) -- quantitative -- kg in a m3 mixture -- Input Variable\n",
    "Fine Aggregate (fineagg) -- quantitative -- kg in a m3 mixture -- Input Variable\n",
    "Age(age) -- quantitative -- Day (1~365) -- Input Variable\n",
    "Concrete compressive strength(strength) -- quantitative -- MPa -- Output Variable"
   ]
  },
  {
   "cell_type": "code",
   "execution_count": 1,
   "metadata": {},
   "outputs": [],
   "source": [
    "# see the value of multiple statements at once\n",
    "# output for all commands in python jupyter notebook\n",
    "\n",
    "from IPython.core.interactiveshell import InteractiveShell\n",
    "InteractiveShell.ast_node_interactivity = \"all\"\n",
    "\n",
    "# to suppress the warnings\n",
    "\n",
    "import warnings\n",
    "warnings.filterwarnings('ignore')"
   ]
  },
  {
   "cell_type": "code",
   "execution_count": 2,
   "metadata": {},
   "outputs": [],
   "source": [
    "# importing the packages\n",
    "\n",
    "import numpy as np\n",
    "import pandas as pd\n",
    "import matplotlib.pyplot as plt\n",
    "import matplotlib.cm as cm\n",
    "import seaborn as sns\n",
    "import math\n",
    "import time\n",
    "import itertools as it\n",
    "\n",
    "\n",
    "# This magic command line tells the notebook to show plots inline\n",
    "%matplotlib inline\n",
    "\n",
    "# Set a style/theme to the plots\n",
    "sns.set_style(style='darkgrid')\n",
    "plt.style.use('ggplot')"
   ]
  },
  {
   "cell_type": "code",
   "execution_count": 3,
   "metadata": {},
   "outputs": [],
   "source": [
    "concrete_df = pd.read_csv('Concrete_Data.csv')"
   ]
  },
  {
   "cell_type": "code",
   "execution_count": 4,
   "metadata": {},
   "outputs": [
    {
     "data": {
      "text/plain": [
       "1030"
      ]
     },
     "execution_count": 4,
     "metadata": {},
     "output_type": "execute_result"
    }
   ],
   "source": [
    "len(concrete_df)"
   ]
  },
  {
   "cell_type": "code",
   "execution_count": 5,
   "metadata": {},
   "outputs": [
    {
     "data": {
      "text/plain": [
       "(1030, 9)"
      ]
     },
     "execution_count": 5,
     "metadata": {},
     "output_type": "execute_result"
    }
   ],
   "source": [
    "concrete_df.shape"
   ]
  },
  {
   "cell_type": "code",
   "execution_count": 6,
   "metadata": {},
   "outputs": [
    {
     "data": {
      "text/html": [
       "<div>\n",
       "<style scoped>\n",
       "    .dataframe tbody tr th:only-of-type {\n",
       "        vertical-align: middle;\n",
       "    }\n",
       "\n",
       "    .dataframe tbody tr th {\n",
       "        vertical-align: top;\n",
       "    }\n",
       "\n",
       "    .dataframe thead th {\n",
       "        text-align: right;\n",
       "    }\n",
       "</style>\n",
       "<table border=\"1\" class=\"dataframe\">\n",
       "  <thead>\n",
       "    <tr style=\"text-align: right;\">\n",
       "      <th></th>\n",
       "      <th>Cement</th>\n",
       "      <th>Blast_Furnace_Slag</th>\n",
       "      <th>Fly_Ash</th>\n",
       "      <th>Water</th>\n",
       "      <th>Superplasticizer</th>\n",
       "      <th>Coarse_Aggregate</th>\n",
       "      <th>Fine_Aggregate</th>\n",
       "      <th>Age</th>\n",
       "      <th>Concrete_compressive_strength</th>\n",
       "    </tr>\n",
       "  </thead>\n",
       "  <tbody>\n",
       "    <tr>\n",
       "      <th>0</th>\n",
       "      <td>540.0</td>\n",
       "      <td>0.0</td>\n",
       "      <td>0.0</td>\n",
       "      <td>162.0</td>\n",
       "      <td>2.5</td>\n",
       "      <td>1040.0</td>\n",
       "      <td>676.0</td>\n",
       "      <td>28</td>\n",
       "      <td>79.99</td>\n",
       "    </tr>\n",
       "    <tr>\n",
       "      <th>1</th>\n",
       "      <td>540.0</td>\n",
       "      <td>0.0</td>\n",
       "      <td>0.0</td>\n",
       "      <td>162.0</td>\n",
       "      <td>2.5</td>\n",
       "      <td>1055.0</td>\n",
       "      <td>676.0</td>\n",
       "      <td>28</td>\n",
       "      <td>61.89</td>\n",
       "    </tr>\n",
       "    <tr>\n",
       "      <th>2</th>\n",
       "      <td>332.5</td>\n",
       "      <td>142.5</td>\n",
       "      <td>0.0</td>\n",
       "      <td>228.0</td>\n",
       "      <td>0.0</td>\n",
       "      <td>932.0</td>\n",
       "      <td>594.0</td>\n",
       "      <td>270</td>\n",
       "      <td>40.27</td>\n",
       "    </tr>\n",
       "    <tr>\n",
       "      <th>3</th>\n",
       "      <td>332.5</td>\n",
       "      <td>142.5</td>\n",
       "      <td>0.0</td>\n",
       "      <td>228.0</td>\n",
       "      <td>0.0</td>\n",
       "      <td>932.0</td>\n",
       "      <td>594.0</td>\n",
       "      <td>365</td>\n",
       "      <td>41.05</td>\n",
       "    </tr>\n",
       "    <tr>\n",
       "      <th>4</th>\n",
       "      <td>198.6</td>\n",
       "      <td>132.4</td>\n",
       "      <td>0.0</td>\n",
       "      <td>192.0</td>\n",
       "      <td>0.0</td>\n",
       "      <td>978.4</td>\n",
       "      <td>825.5</td>\n",
       "      <td>360</td>\n",
       "      <td>44.30</td>\n",
       "    </tr>\n",
       "  </tbody>\n",
       "</table>\n",
       "</div>"
      ],
      "text/plain": [
       "   Cement   Blast_Furnace_Slag   Fly_Ash  Water  Superplasticizer  \\\n",
       "0    540.0                  0.0      0.0  162.0               2.5   \n",
       "1    540.0                  0.0      0.0  162.0               2.5   \n",
       "2    332.5                142.5      0.0  228.0               0.0   \n",
       "3    332.5                142.5      0.0  228.0               0.0   \n",
       "4    198.6                132.4      0.0  192.0               0.0   \n",
       "\n",
       "   Coarse_Aggregate  Fine_Aggregate  Age  Concrete_compressive_strength  \n",
       "0            1040.0           676.0   28                          79.99  \n",
       "1            1055.0           676.0   28                          61.89  \n",
       "2             932.0           594.0  270                          40.27  \n",
       "3             932.0           594.0  365                          41.05  \n",
       "4             978.4           825.5  360                          44.30  "
      ]
     },
     "execution_count": 6,
     "metadata": {},
     "output_type": "execute_result"
    }
   ],
   "source": [
    "concrete_df.head()"
   ]
  },
  {
   "cell_type": "markdown",
   "metadata": {},
   "source": [
    "# Observations:\n",
    "    \n",
    "It shows that there are eight independent variables ( Cement, BlastFurnace , FlyAsh, Water, Superplasticizer, CoarseAggregate, FineAggregate, Age) and one dependent variable (ConcreteCompressiveStrength).\n",
    "All the records are numeric in the dataset."
   ]
  },
  {
   "cell_type": "code",
   "execution_count": 7,
   "metadata": {},
   "outputs": [],
   "source": [
    "# checking for the null values"
   ]
  },
  {
   "cell_type": "code",
   "execution_count": 8,
   "metadata": {},
   "outputs": [
    {
     "name": "stdout",
     "output_type": "stream",
     "text": [
      "column name: Cement \n",
      "362.6    20\n",
      "425.0    20\n",
      "251.4    15\n",
      "310.0    14\n",
      "446.0    14\n",
      "         ..\n",
      "313.8     1\n",
      "147.8     1\n",
      "260.9     1\n",
      "136.4     1\n",
      "321.3     1\n",
      "Name: Cement , Length: 278, dtype: int64\n",
      "**********************************\n",
      "column name: Blast_Furnace_Slag \n",
      "0.0      471\n",
      "189.0     30\n",
      "106.3     20\n",
      "24.0      14\n",
      "20.0      12\n",
      "        ... \n",
      "178.1      1\n",
      "148.9      1\n",
      "98.8       1\n",
      "128.9      1\n",
      "169.4      1\n",
      "Name: Blast_Furnace_Slag , Length: 185, dtype: int64\n",
      "**********************************\n",
      "column name: Fly_Ash\n",
      "0.0      566\n",
      "118.3     20\n",
      "141.0     16\n",
      "24.5      15\n",
      "79.0      14\n",
      "        ... \n",
      "71.0       1\n",
      "138.0      1\n",
      "166.0      1\n",
      "182.0      1\n",
      "143.2      1\n",
      "Name: Fly_Ash, Length: 156, dtype: int64\n",
      "**********************************\n",
      "column name: Water\n",
      "192.0    118\n",
      "228.0     54\n",
      "185.7     46\n",
      "203.5     36\n",
      "186.0     28\n",
      "        ... \n",
      "127.0      1\n",
      "166.7      1\n",
      "191.3      1\n",
      "172.4      1\n",
      "177.6      1\n",
      "Name: Water, Length: 195, dtype: int64\n",
      "**********************************\n",
      "column name: Superplasticizer\n",
      "0.0     379\n",
      "11.6     37\n",
      "8.0      27\n",
      "7.0      19\n",
      "6.0      17\n",
      "       ... \n",
      "8.8       1\n",
      "8.4       1\n",
      "10.7      1\n",
      "13.1      1\n",
      "15.3      1\n",
      "Name: Superplasticizer, Length: 111, dtype: int64\n",
      "**********************************\n",
      "column name: Coarse_Aggregate\n",
      "932.0     57\n",
      "852.1     45\n",
      "944.7     30\n",
      "968.0     29\n",
      "1125.0    24\n",
      "          ..\n",
      "820.0      1\n",
      "908.0      1\n",
      "981.0      1\n",
      "923.2      1\n",
      "838.9      1\n",
      "Name: Coarse_Aggregate, Length: 284, dtype: int64\n",
      "**********************************\n",
      "column name: Fine_Aggregate\n",
      "755.8    30\n",
      "594.0    30\n",
      "670.0    23\n",
      "613.0    22\n",
      "801.0    16\n",
      "         ..\n",
      "794.0     1\n",
      "705.0     1\n",
      "669.0     1\n",
      "774.3     1\n",
      "732.6     1\n",
      "Name: Fine_Aggregate, Length: 302, dtype: int64\n",
      "**********************************\n",
      "column name: Age\n",
      "28     425\n",
      "3      134\n",
      "7      126\n",
      "56      91\n",
      "14      62\n",
      "90      54\n",
      "100     52\n",
      "180     26\n",
      "91      22\n",
      "365     14\n",
      "270     13\n",
      "360      6\n",
      "120      3\n",
      "1        2\n",
      "Name: Age, dtype: int64\n",
      "**********************************\n",
      "column name: Concrete_compressive_strength\n",
      "33.40    6\n",
      "71.30    4\n",
      "41.05    4\n",
      "31.35    4\n",
      "23.52    4\n",
      "        ..\n",
      "38.33    1\n",
      "10.73    1\n",
      "30.45    1\n",
      "39.84    1\n",
      "36.25    1\n",
      "Name: Concrete_compressive_strength, Length: 845, dtype: int64\n",
      "**********************************\n"
     ]
    }
   ],
   "source": [
    "for i in concrete_df.columns:\n",
    "    print('column name:',i)\n",
    "    print(concrete_df[i].value_counts())\n",
    "    print('**********************************')"
   ]
  },
  {
   "cell_type": "code",
   "execution_count": 9,
   "metadata": {},
   "outputs": [
    {
     "data": {
      "text/plain": [
       "<bound method DataFrame.info of       Cement   Blast_Furnace_Slag   Fly_Ash  Water  Superplasticizer  \\\n",
       "0       540.0                  0.0      0.0  162.0               2.5   \n",
       "1       540.0                  0.0      0.0  162.0               2.5   \n",
       "2       332.5                142.5      0.0  228.0               0.0   \n",
       "3       332.5                142.5      0.0  228.0               0.0   \n",
       "4       198.6                132.4      0.0  192.0               0.0   \n",
       "...       ...                  ...      ...    ...               ...   \n",
       "1025    276.4                116.0     90.3  179.6               8.9   \n",
       "1026    322.2                  0.0    115.6  196.0              10.4   \n",
       "1027    148.5                139.4    108.6  192.7               6.1   \n",
       "1028    159.1                186.7      0.0  175.6              11.3   \n",
       "1029    260.9                100.5     78.3  200.6               8.6   \n",
       "\n",
       "      Coarse_Aggregate  Fine_Aggregate  Age  Concrete_compressive_strength  \n",
       "0               1040.0           676.0   28                          79.99  \n",
       "1               1055.0           676.0   28                          61.89  \n",
       "2                932.0           594.0  270                          40.27  \n",
       "3                932.0           594.0  365                          41.05  \n",
       "4                978.4           825.5  360                          44.30  \n",
       "...                ...             ...  ...                            ...  \n",
       "1025             870.1           768.3   28                          44.28  \n",
       "1026             817.9           813.4   28                          31.18  \n",
       "1027             892.4           780.0   28                          23.70  \n",
       "1028             989.6           788.9   28                          32.77  \n",
       "1029             864.5           761.5   28                          32.40  \n",
       "\n",
       "[1030 rows x 9 columns]>"
      ]
     },
     "execution_count": 9,
     "metadata": {},
     "output_type": "execute_result"
    }
   ],
   "source": [
    "concrete_df.info"
   ]
  },
  {
   "cell_type": "code",
   "execution_count": 10,
   "metadata": {},
   "outputs": [
    {
     "data": {
      "text/plain": [
       "Cement                           float64\n",
       "Blast_Furnace_Slag               float64\n",
       "Fly_Ash                          float64\n",
       "Water                            float64\n",
       "Superplasticizer                 float64\n",
       "Coarse_Aggregate                 float64\n",
       "Fine_Aggregate                   float64\n",
       "Age                                int64\n",
       "Concrete_compressive_strength    float64\n",
       "dtype: object"
      ]
     },
     "execution_count": 10,
     "metadata": {},
     "output_type": "execute_result"
    }
   ],
   "source": [
    "concrete_df.dtypes"
   ]
  },
  {
   "cell_type": "code",
   "execution_count": 11,
   "metadata": {},
   "outputs": [
    {
     "data": {
      "text/plain": [
       "Cement                           0\n",
       "Blast_Furnace_Slag               0\n",
       "Fly_Ash                          0\n",
       "Water                            0\n",
       "Superplasticizer                 0\n",
       "Coarse_Aggregate                 0\n",
       "Fine_Aggregate                   0\n",
       "Age                              0\n",
       "Concrete_compressive_strength    0\n",
       "dtype: int64"
      ]
     },
     "execution_count": 11,
     "metadata": {},
     "output_type": "execute_result"
    }
   ],
   "source": [
    "concrete_df.isnull().sum()\n"
   ]
  },
  {
   "cell_type": "code",
   "execution_count": 12,
   "metadata": {},
   "outputs": [
    {
     "data": {
      "text/html": [
       "<div>\n",
       "<style scoped>\n",
       "    .dataframe tbody tr th:only-of-type {\n",
       "        vertical-align: middle;\n",
       "    }\n",
       "\n",
       "    .dataframe tbody tr th {\n",
       "        vertical-align: top;\n",
       "    }\n",
       "\n",
       "    .dataframe thead th {\n",
       "        text-align: right;\n",
       "    }\n",
       "</style>\n",
       "<table border=\"1\" class=\"dataframe\">\n",
       "  <thead>\n",
       "    <tr style=\"text-align: right;\">\n",
       "      <th></th>\n",
       "      <th>Cement</th>\n",
       "      <th>Blast_Furnace_Slag</th>\n",
       "      <th>Fly_Ash</th>\n",
       "      <th>Water</th>\n",
       "      <th>Superplasticizer</th>\n",
       "      <th>Coarse_Aggregate</th>\n",
       "      <th>Fine_Aggregate</th>\n",
       "      <th>Age</th>\n",
       "      <th>Concrete_compressive_strength</th>\n",
       "    </tr>\n",
       "  </thead>\n",
       "  <tbody>\n",
       "    <tr>\n",
       "      <th>0</th>\n",
       "      <td>False</td>\n",
       "      <td>False</td>\n",
       "      <td>False</td>\n",
       "      <td>False</td>\n",
       "      <td>False</td>\n",
       "      <td>False</td>\n",
       "      <td>False</td>\n",
       "      <td>False</td>\n",
       "      <td>False</td>\n",
       "    </tr>\n",
       "    <tr>\n",
       "      <th>1</th>\n",
       "      <td>False</td>\n",
       "      <td>False</td>\n",
       "      <td>False</td>\n",
       "      <td>False</td>\n",
       "      <td>False</td>\n",
       "      <td>False</td>\n",
       "      <td>False</td>\n",
       "      <td>False</td>\n",
       "      <td>False</td>\n",
       "    </tr>\n",
       "    <tr>\n",
       "      <th>2</th>\n",
       "      <td>False</td>\n",
       "      <td>False</td>\n",
       "      <td>False</td>\n",
       "      <td>False</td>\n",
       "      <td>False</td>\n",
       "      <td>False</td>\n",
       "      <td>False</td>\n",
       "      <td>False</td>\n",
       "      <td>False</td>\n",
       "    </tr>\n",
       "    <tr>\n",
       "      <th>3</th>\n",
       "      <td>False</td>\n",
       "      <td>False</td>\n",
       "      <td>False</td>\n",
       "      <td>False</td>\n",
       "      <td>False</td>\n",
       "      <td>False</td>\n",
       "      <td>False</td>\n",
       "      <td>False</td>\n",
       "      <td>False</td>\n",
       "    </tr>\n",
       "    <tr>\n",
       "      <th>4</th>\n",
       "      <td>False</td>\n",
       "      <td>False</td>\n",
       "      <td>False</td>\n",
       "      <td>False</td>\n",
       "      <td>False</td>\n",
       "      <td>False</td>\n",
       "      <td>False</td>\n",
       "      <td>False</td>\n",
       "      <td>False</td>\n",
       "    </tr>\n",
       "  </tbody>\n",
       "</table>\n",
       "</div>"
      ],
      "text/plain": [
       "   Cement   Blast_Furnace_Slag   Fly_Ash  Water  Superplasticizer  \\\n",
       "0    False                False    False  False             False   \n",
       "1    False                False    False  False             False   \n",
       "2    False                False    False  False             False   \n",
       "3    False                False    False  False             False   \n",
       "4    False                False    False  False             False   \n",
       "\n",
       "   Coarse_Aggregate  Fine_Aggregate    Age  Concrete_compressive_strength  \n",
       "0             False           False  False                          False  \n",
       "1             False           False  False                          False  \n",
       "2             False           False  False                          False  \n",
       "3             False           False  False                          False  \n",
       "4             False           False  False                          False  "
      ]
     },
     "execution_count": 12,
     "metadata": {},
     "output_type": "execute_result"
    }
   ],
   "source": [
    "concrete_df.isnull().head()"
   ]
  },
  {
   "cell_type": "markdown",
   "metadata": {},
   "source": [
    "# Observations:\n",
    " - It shows the no null values present in the dataset.\n",
    " - 'True' represents the null values and 'False' represents there are no null values in the dataset."
   ]
  },
  {
   "cell_type": "code",
   "execution_count": 13,
   "metadata": {},
   "outputs": [
    {
     "data": {
      "text/html": [
       "<div>\n",
       "<style scoped>\n",
       "    .dataframe tbody tr th:only-of-type {\n",
       "        vertical-align: middle;\n",
       "    }\n",
       "\n",
       "    .dataframe tbody tr th {\n",
       "        vertical-align: top;\n",
       "    }\n",
       "\n",
       "    .dataframe thead th {\n",
       "        text-align: right;\n",
       "    }\n",
       "</style>\n",
       "<table border=\"1\" class=\"dataframe\">\n",
       "  <thead>\n",
       "    <tr style=\"text-align: right;\">\n",
       "      <th></th>\n",
       "      <th>count</th>\n",
       "      <th>mean</th>\n",
       "      <th>std</th>\n",
       "      <th>min</th>\n",
       "      <th>25%</th>\n",
       "      <th>50%</th>\n",
       "      <th>75%</th>\n",
       "      <th>max</th>\n",
       "    </tr>\n",
       "  </thead>\n",
       "  <tbody>\n",
       "    <tr>\n",
       "      <th>Cement</th>\n",
       "      <td>1030.0</td>\n",
       "      <td>281.167864</td>\n",
       "      <td>104.506364</td>\n",
       "      <td>102.00</td>\n",
       "      <td>192.375</td>\n",
       "      <td>272.900</td>\n",
       "      <td>350.000</td>\n",
       "      <td>540.0</td>\n",
       "    </tr>\n",
       "    <tr>\n",
       "      <th>Blast_Furnace_Slag</th>\n",
       "      <td>1030.0</td>\n",
       "      <td>73.895825</td>\n",
       "      <td>86.279342</td>\n",
       "      <td>0.00</td>\n",
       "      <td>0.000</td>\n",
       "      <td>22.000</td>\n",
       "      <td>142.950</td>\n",
       "      <td>359.4</td>\n",
       "    </tr>\n",
       "    <tr>\n",
       "      <th>Fly_Ash</th>\n",
       "      <td>1030.0</td>\n",
       "      <td>54.188350</td>\n",
       "      <td>63.997004</td>\n",
       "      <td>0.00</td>\n",
       "      <td>0.000</td>\n",
       "      <td>0.000</td>\n",
       "      <td>118.300</td>\n",
       "      <td>200.1</td>\n",
       "    </tr>\n",
       "    <tr>\n",
       "      <th>Water</th>\n",
       "      <td>1030.0</td>\n",
       "      <td>181.567282</td>\n",
       "      <td>21.354219</td>\n",
       "      <td>121.80</td>\n",
       "      <td>164.900</td>\n",
       "      <td>185.000</td>\n",
       "      <td>192.000</td>\n",
       "      <td>247.0</td>\n",
       "    </tr>\n",
       "    <tr>\n",
       "      <th>Superplasticizer</th>\n",
       "      <td>1030.0</td>\n",
       "      <td>6.204660</td>\n",
       "      <td>5.973841</td>\n",
       "      <td>0.00</td>\n",
       "      <td>0.000</td>\n",
       "      <td>6.400</td>\n",
       "      <td>10.200</td>\n",
       "      <td>32.2</td>\n",
       "    </tr>\n",
       "    <tr>\n",
       "      <th>Coarse_Aggregate</th>\n",
       "      <td>1030.0</td>\n",
       "      <td>972.918932</td>\n",
       "      <td>77.753954</td>\n",
       "      <td>801.00</td>\n",
       "      <td>932.000</td>\n",
       "      <td>968.000</td>\n",
       "      <td>1029.400</td>\n",
       "      <td>1145.0</td>\n",
       "    </tr>\n",
       "    <tr>\n",
       "      <th>Fine_Aggregate</th>\n",
       "      <td>1030.0</td>\n",
       "      <td>773.580485</td>\n",
       "      <td>80.175980</td>\n",
       "      <td>594.00</td>\n",
       "      <td>730.950</td>\n",
       "      <td>779.500</td>\n",
       "      <td>824.000</td>\n",
       "      <td>992.6</td>\n",
       "    </tr>\n",
       "    <tr>\n",
       "      <th>Age</th>\n",
       "      <td>1030.0</td>\n",
       "      <td>45.662136</td>\n",
       "      <td>63.169912</td>\n",
       "      <td>1.00</td>\n",
       "      <td>7.000</td>\n",
       "      <td>28.000</td>\n",
       "      <td>56.000</td>\n",
       "      <td>365.0</td>\n",
       "    </tr>\n",
       "    <tr>\n",
       "      <th>Concrete_compressive_strength</th>\n",
       "      <td>1030.0</td>\n",
       "      <td>35.817961</td>\n",
       "      <td>16.705742</td>\n",
       "      <td>2.33</td>\n",
       "      <td>23.710</td>\n",
       "      <td>34.445</td>\n",
       "      <td>46.135</td>\n",
       "      <td>82.6</td>\n",
       "    </tr>\n",
       "  </tbody>\n",
       "</table>\n",
       "</div>"
      ],
      "text/plain": [
       "                                count        mean         std     min  \\\n",
       "Cement                         1030.0  281.167864  104.506364  102.00   \n",
       "Blast_Furnace_Slag             1030.0   73.895825   86.279342    0.00   \n",
       "Fly_Ash                        1030.0   54.188350   63.997004    0.00   \n",
       "Water                          1030.0  181.567282   21.354219  121.80   \n",
       "Superplasticizer               1030.0    6.204660    5.973841    0.00   \n",
       "Coarse_Aggregate               1030.0  972.918932   77.753954  801.00   \n",
       "Fine_Aggregate                 1030.0  773.580485   80.175980  594.00   \n",
       "Age                            1030.0   45.662136   63.169912    1.00   \n",
       "Concrete_compressive_strength  1030.0   35.817961   16.705742    2.33   \n",
       "\n",
       "                                   25%      50%       75%     max  \n",
       "Cement                         192.375  272.900   350.000   540.0  \n",
       "Blast_Furnace_Slag               0.000   22.000   142.950   359.4  \n",
       "Fly_Ash                          0.000    0.000   118.300   200.1  \n",
       "Water                          164.900  185.000   192.000   247.0  \n",
       "Superplasticizer                 0.000    6.400    10.200    32.2  \n",
       "Coarse_Aggregate               932.000  968.000  1029.400  1145.0  \n",
       "Fine_Aggregate                 730.950  779.500   824.000   992.6  \n",
       "Age                              7.000   28.000    56.000   365.0  \n",
       "Concrete_compressive_strength   23.710   34.445    46.135    82.6  "
      ]
     },
     "execution_count": 13,
     "metadata": {},
     "output_type": "execute_result"
    }
   ],
   "source": [
    "#Summary statistics\n",
    "\n",
    "concrete_df.describe().transpose()"
   ]
  },
  {
   "cell_type": "markdown",
   "metadata": {},
   "source": [
    "# Observations:\n",
    "    \n",
    "-All of the data in the dataset is numerical.\n",
    "\n",
    "-No null/NAN data.\n",
    "\n",
    "-Age data appears to have outliers because max value is very large as compared to 3rd IQR value"
   ]
  },
  {
   "cell_type": "markdown",
   "metadata": {},
   "source": [
    "# Checking the outliers"
   ]
  },
  {
   "cell_type": "markdown",
   "metadata": {},
   "source": [
    "a) Based on IQR\n",
    "         i. Values less than Q1 - 1.5*IQR\n",
    "         ii. Values greater than Q3 + 1.5*IQR\n",
    "         \n",
    " - IQR divides the values into three quartiles Q1,Q2 & Q3.Q2 represents the median of the range.\n",
    " - Here we find the lower limit and upper limit of the range.\n",
    "                   \n",
    "b) Using Boxplots    "
   ]
  },
  {
   "cell_type": "code",
   "execution_count": 14,
   "metadata": {},
   "outputs": [
    {
     "data": {
      "image/png": "[encoded data removed]",
      "text/plain": [
       "<Figure size 864x432 with 1 Axes>"
      ]
     },
     "metadata": {},
     "output_type": "display_data"
    }
   ],
   "source": [
    "plt.subplots(figsize=(12, 6))\n",
    "ax = sns.boxplot(data=concrete_df)\n",
    "ax.set_xticklabels(ax.get_xticklabels(), rotation=45);"
   ]
  },
  {
   "cell_type": "markdown",
   "metadata": {},
   "source": [
    "#Observations:\n",
    "\n",
    "Age column appears to be having maximum number of outliers\n",
    "Slag, Water, superplastic, fineaggregate features have some outliers\n",
    "All features except age and strength have same units(kg in m3 mixture) but have different scales. Thus we might need to scale\n",
    "the data so as to avoid bias in algorithms"
   ]
  },
  {
   "cell_type": "markdown",
   "metadata": {},
   "source": [
    "# Boxplot for each columns"
   ]
  },
  {
   "cell_type": "code",
   "execution_count": 15,
   "metadata": {},
   "outputs": [],
   "source": [
    "concrete_df.rename({'Cement ':'Cement',},axis=1,inplace=True)"
   ]
  },
  {
   "cell_type": "code",
   "execution_count": 16,
   "metadata": {},
   "outputs": [
    {
     "data": {
      "text/plain": [
       "<matplotlib.axes._subplots.AxesSubplot at 0x1a9f3f99dc8>"
      ]
     },
     "execution_count": 16,
     "metadata": {},
     "output_type": "execute_result"
    },
    {
     "data": {
      "image/png": "[encoded data removed]",
      "text/plain": [
       "<Figure size 432x288 with 1 Axes>"
      ]
     },
     "metadata": {},
     "output_type": "display_data"
    }
   ],
   "source": [
    "sns.boxplot(concrete_df.Cement)\n",
    "plt.show()"
   ]
  },
  {
   "cell_type": "code",
   "execution_count": 17,
   "metadata": {},
   "outputs": [
    {
     "data": {
      "text/plain": [
       "(192.375, 350.0)"
      ]
     },
     "execution_count": 17,
     "metadata": {},
     "output_type": "execute_result"
    }
   ],
   "source": [
    "Q1 = concrete_df.Cement.quantile(0.25)\n",
    "Q3 = concrete_df.Cement.quantile(0.75)\n",
    "Q1, Q3"
   ]
  },
  {
   "cell_type": "code",
   "execution_count": 18,
   "metadata": {},
   "outputs": [
    {
     "data": {
      "text/plain": [
       "157.625"
      ]
     },
     "execution_count": 18,
     "metadata": {},
     "output_type": "execute_result"
    }
   ],
   "source": [
    "IQR = Q3 - Q1\n",
    "IQR"
   ]
  },
  {
   "cell_type": "code",
   "execution_count": 19,
   "metadata": {},
   "outputs": [
    {
     "data": {
      "text/plain": [
       "(-44.0625, 586.4375)"
      ]
     },
     "execution_count": 19,
     "metadata": {},
     "output_type": "execute_result"
    }
   ],
   "source": [
    "lower_limit = Q1 - 1.5*IQR\n",
    "upper_limit = Q3 + 1.5*IQR\n",
    "lower_limit, upper_limit"
   ]
  },
  {
   "cell_type": "code",
   "execution_count": 20,
   "metadata": {},
   "outputs": [
    {
     "data": {
      "text/html": [
       "<div>\n",
       "<style scoped>\n",
       "    .dataframe tbody tr th:only-of-type {\n",
       "        vertical-align: middle;\n",
       "    }\n",
       "\n",
       "    .dataframe tbody tr th {\n",
       "        vertical-align: top;\n",
       "    }\n",
       "\n",
       "    .dataframe thead th {\n",
       "        text-align: right;\n",
       "    }\n",
       "</style>\n",
       "<table border=\"1\" class=\"dataframe\">\n",
       "  <thead>\n",
       "    <tr style=\"text-align: right;\">\n",
       "      <th></th>\n",
       "      <th>Cement</th>\n",
       "      <th>Blast_Furnace_Slag</th>\n",
       "      <th>Fly_Ash</th>\n",
       "      <th>Water</th>\n",
       "      <th>Superplasticizer</th>\n",
       "      <th>Coarse_Aggregate</th>\n",
       "      <th>Fine_Aggregate</th>\n",
       "      <th>Age</th>\n",
       "      <th>Concrete_compressive_strength</th>\n",
       "    </tr>\n",
       "  </thead>\n",
       "  <tbody>\n",
       "  </tbody>\n",
       "</table>\n",
       "</div>"
      ],
      "text/plain": [
       "Empty DataFrame\n",
       "Columns: [Cement, Blast_Furnace_Slag , Fly_Ash, Water, Superplasticizer, Coarse_Aggregate, Fine_Aggregate, Age, Concrete_compressive_strength]\n",
       "Index: []"
      ]
     },
     "execution_count": 20,
     "metadata": {},
     "output_type": "execute_result"
    }
   ],
   "source": [
    "concrete_df[(concrete_df.Cement<lower_limit)|(concrete_df.Cement>upper_limit)]"
   ]
  },
  {
   "cell_type": "markdown",
   "metadata": {},
   "source": [
    "# Observations: Cement\n",
    " - The values obtained less than lower limit and more than upper limit is '0'.\n",
    " - There were no outliers."
   ]
  },
  {
   "cell_type": "code",
   "execution_count": 21,
   "metadata": {},
   "outputs": [
    {
     "data": {
      "image/png": "[encoded data removed]",
      "text/plain": [
       "<Figure size 432x288 with 1 Axes>"
      ]
     },
     "metadata": {},
     "output_type": "display_data"
    }
   ],
   "source": [
    "#box plot for the column Fly_Ash of the dataset\n",
    "sns.boxplot(x=concrete_df.Fly_Ash);"
   ]
  },
  {
   "cell_type": "code",
   "execution_count": 22,
   "metadata": {},
   "outputs": [
    {
     "data": {
      "text/plain": [
       "(0.0, 118.3)"
      ]
     },
     "execution_count": 22,
     "metadata": {},
     "output_type": "execute_result"
    }
   ],
   "source": [
    "Q1 = concrete_df.Fly_Ash.quantile(0.25)\n",
    "Q3 = concrete_df.Fly_Ash.quantile(0.75)\n",
    "Q1, Q3"
   ]
  },
  {
   "cell_type": "code",
   "execution_count": 23,
   "metadata": {},
   "outputs": [
    {
     "data": {
      "text/plain": [
       "118.3"
      ]
     },
     "execution_count": 23,
     "metadata": {},
     "output_type": "execute_result"
    }
   ],
   "source": [
    "IQR = Q3 - Q1\n",
    "IQR"
   ]
  },
  {
   "cell_type": "code",
   "execution_count": 24,
   "metadata": {},
   "outputs": [
    {
     "data": {
      "text/plain": [
       "(-177.45, 295.75)"
      ]
     },
     "execution_count": 24,
     "metadata": {},
     "output_type": "execute_result"
    }
   ],
   "source": [
    "lower_limit = Q1 - 1.5*IQR\n",
    "upper_limit = Q3 + 1.5*IQR\n",
    "lower_limit, upper_limit"
   ]
  },
  {
   "cell_type": "code",
   "execution_count": 25,
   "metadata": {},
   "outputs": [
    {
     "data": {
      "text/html": [
       "<div>\n",
       "<style scoped>\n",
       "    .dataframe tbody tr th:only-of-type {\n",
       "        vertical-align: middle;\n",
       "    }\n",
       "\n",
       "    .dataframe tbody tr th {\n",
       "        vertical-align: top;\n",
       "    }\n",
       "\n",
       "    .dataframe thead th {\n",
       "        text-align: right;\n",
       "    }\n",
       "</style>\n",
       "<table border=\"1\" class=\"dataframe\">\n",
       "  <thead>\n",
       "    <tr style=\"text-align: right;\">\n",
       "      <th></th>\n",
       "      <th>Cement</th>\n",
       "      <th>Blast_Furnace_Slag</th>\n",
       "      <th>Fly_Ash</th>\n",
       "      <th>Water</th>\n",
       "      <th>Superplasticizer</th>\n",
       "      <th>Coarse_Aggregate</th>\n",
       "      <th>Fine_Aggregate</th>\n",
       "      <th>Age</th>\n",
       "      <th>Concrete_compressive_strength</th>\n",
       "    </tr>\n",
       "  </thead>\n",
       "  <tbody>\n",
       "  </tbody>\n",
       "</table>\n",
       "</div>"
      ],
      "text/plain": [
       "Empty DataFrame\n",
       "Columns: [Cement, Blast_Furnace_Slag , Fly_Ash, Water, Superplasticizer, Coarse_Aggregate, Fine_Aggregate, Age, Concrete_compressive_strength]\n",
       "Index: []"
      ]
     },
     "execution_count": 25,
     "metadata": {},
     "output_type": "execute_result"
    }
   ],
   "source": [
    "concrete_df[(concrete_df.Fly_Ash<lower_limit)|(concrete_df.Fly_Ash>upper_limit)]"
   ]
  },
  {
   "cell_type": "markdown",
   "metadata": {},
   "source": [
    "# Observations: FlyAsh\n",
    " - The values obtained less than lower limit and more than upper limit is '0'.\n",
    " - There were no outliers."
   ]
  },
  {
   "cell_type": "code",
   "execution_count": 26,
   "metadata": {},
   "outputs": [
    {
     "data": {
      "text/plain": [
       "<matplotlib.axes._subplots.AxesSubplot at 0x1a9f3e81248>"
      ]
     },
     "execution_count": 26,
     "metadata": {},
     "output_type": "execute_result"
    },
    {
     "data": {
      "image/png": "[encoded data removed]",
      "text/plain": [
       "<Figure size 432x288 with 1 Axes>"
      ]
     },
     "metadata": {},
     "output_type": "display_data"
    }
   ],
   "source": [
    "#box plot for the column concrete_compressive_strength of the dataset\n",
    "\n",
    "sns.boxplot(x=concrete_df.Concrete_compressive_strength)"
   ]
  },
  {
   "cell_type": "code",
   "execution_count": 27,
   "metadata": {},
   "outputs": [
    {
     "data": {
      "text/plain": [
       "(23.71, 46.135000000000005)"
      ]
     },
     "execution_count": 27,
     "metadata": {},
     "output_type": "execute_result"
    }
   ],
   "source": [
    "Q1 = concrete_df.Concrete_compressive_strength.quantile(0.25)\n",
    "Q3 = concrete_df.Concrete_compressive_strength.quantile(0.75)\n",
    "Q1, Q3"
   ]
  },
  {
   "cell_type": "code",
   "execution_count": 28,
   "metadata": {},
   "outputs": [
    {
     "data": {
      "text/plain": [
       "22.425000000000004"
      ]
     },
     "execution_count": 28,
     "metadata": {},
     "output_type": "execute_result"
    }
   ],
   "source": [
    "IQR = Q3 - Q1\n",
    "IQR"
   ]
  },
  {
   "cell_type": "code",
   "execution_count": 29,
   "metadata": {},
   "outputs": [
    {
     "data": {
      "text/plain": [
       "(-9.927500000000002, 79.77250000000001)"
      ]
     },
     "execution_count": 29,
     "metadata": {},
     "output_type": "execute_result"
    }
   ],
   "source": [
    "lower_limit = Q1 - 1.5*IQR\n",
    "upper_limit = Q3 + 1.5*IQR\n",
    "lower_limit, upper_limit"
   ]
  },
  {
   "cell_type": "code",
   "execution_count": 30,
   "metadata": {},
   "outputs": [
    {
     "data": {
      "text/html": [
       "<div>\n",
       "<style scoped>\n",
       "    .dataframe tbody tr th:only-of-type {\n",
       "        vertical-align: middle;\n",
       "    }\n",
       "\n",
       "    .dataframe tbody tr th {\n",
       "        vertical-align: top;\n",
       "    }\n",
       "\n",
       "    .dataframe thead th {\n",
       "        text-align: right;\n",
       "    }\n",
       "</style>\n",
       "<table border=\"1\" class=\"dataframe\">\n",
       "  <thead>\n",
       "    <tr style=\"text-align: right;\">\n",
       "      <th></th>\n",
       "      <th>Cement</th>\n",
       "      <th>Blast_Furnace_Slag</th>\n",
       "      <th>Fly_Ash</th>\n",
       "      <th>Water</th>\n",
       "      <th>Superplasticizer</th>\n",
       "      <th>Coarse_Aggregate</th>\n",
       "      <th>Fine_Aggregate</th>\n",
       "      <th>Age</th>\n",
       "      <th>Concrete_compressive_strength</th>\n",
       "    </tr>\n",
       "  </thead>\n",
       "  <tbody>\n",
       "    <tr>\n",
       "      <th>0</th>\n",
       "      <td>540.0</td>\n",
       "      <td>0.0</td>\n",
       "      <td>0.0</td>\n",
       "      <td>162.0</td>\n",
       "      <td>2.5</td>\n",
       "      <td>1040.0</td>\n",
       "      <td>676.0</td>\n",
       "      <td>28</td>\n",
       "      <td>79.99</td>\n",
       "    </tr>\n",
       "    <tr>\n",
       "      <th>153</th>\n",
       "      <td>323.7</td>\n",
       "      <td>282.8</td>\n",
       "      <td>0.0</td>\n",
       "      <td>183.8</td>\n",
       "      <td>10.3</td>\n",
       "      <td>942.7</td>\n",
       "      <td>659.9</td>\n",
       "      <td>56</td>\n",
       "      <td>80.20</td>\n",
       "    </tr>\n",
       "    <tr>\n",
       "      <th>181</th>\n",
       "      <td>389.9</td>\n",
       "      <td>189.0</td>\n",
       "      <td>0.0</td>\n",
       "      <td>145.9</td>\n",
       "      <td>22.0</td>\n",
       "      <td>944.7</td>\n",
       "      <td>755.8</td>\n",
       "      <td>91</td>\n",
       "      <td>82.60</td>\n",
       "    </tr>\n",
       "    <tr>\n",
       "      <th>381</th>\n",
       "      <td>315.0</td>\n",
       "      <td>137.0</td>\n",
       "      <td>0.0</td>\n",
       "      <td>145.0</td>\n",
       "      <td>5.9</td>\n",
       "      <td>1130.0</td>\n",
       "      <td>745.0</td>\n",
       "      <td>28</td>\n",
       "      <td>81.75</td>\n",
       "    </tr>\n",
       "  </tbody>\n",
       "</table>\n",
       "</div>"
      ],
      "text/plain": [
       "     Cement  Blast_Furnace_Slag   Fly_Ash  Water  Superplasticizer  \\\n",
       "0     540.0                  0.0      0.0  162.0               2.5   \n",
       "153   323.7                282.8      0.0  183.8              10.3   \n",
       "181   389.9                189.0      0.0  145.9              22.0   \n",
       "381   315.0                137.0      0.0  145.0               5.9   \n",
       "\n",
       "     Coarse_Aggregate  Fine_Aggregate  Age  Concrete_compressive_strength  \n",
       "0              1040.0           676.0   28                          79.99  \n",
       "153             942.7           659.9   56                          80.20  \n",
       "181             944.7           755.8   91                          82.60  \n",
       "381            1130.0           745.0   28                          81.75  "
      ]
     },
     "execution_count": 30,
     "metadata": {},
     "output_type": "execute_result"
    }
   ],
   "source": [
    "concrete_df[(concrete_df.Concrete_compressive_strength<lower_limit)|(concrete_df.Concrete_compressive_strength>upper_limit)]"
   ]
  },
  {
   "cell_type": "markdown",
   "metadata": {},
   "source": [
    "# Observations: ConcreteCompressiveStrength\n",
    " - Four values were obtained from less than lower limit and more than upper limit.\n",
    " - There were '4' outliers."
   ]
  },
  {
   "cell_type": "code",
   "execution_count": 31,
   "metadata": {},
   "outputs": [
    {
     "data": {
      "text/plain": [
       "<matplotlib.axes._subplots.AxesSubplot at 0x1a9f3efff08>"
      ]
     },
     "execution_count": 31,
     "metadata": {},
     "output_type": "execute_result"
    },
    {
     "data": {
      "image/png": "[encoded data removed]",
      "text/plain": [
       "<Figure size 432x288 with 1 Axes>"
      ]
     },
     "metadata": {},
     "output_type": "display_data"
    }
   ],
   "source": [
    "#box plot for the column superplasticizer of the dataset\n",
    "sns.boxplot(x=concrete_df['Superplasticizer'])"
   ]
  },
  {
   "cell_type": "code",
   "execution_count": 32,
   "metadata": {},
   "outputs": [
    {
     "data": {
      "text/plain": [
       "(0.0, 10.2)"
      ]
     },
     "execution_count": 32,
     "metadata": {},
     "output_type": "execute_result"
    }
   ],
   "source": [
    "Q1 = concrete_df.Superplasticizer.quantile(0.25)\n",
    "Q3 = concrete_df.Superplasticizer.quantile(0.75)\n",
    "Q1, Q3"
   ]
  },
  {
   "cell_type": "code",
   "execution_count": 33,
   "metadata": {},
   "outputs": [
    {
     "data": {
      "text/plain": [
       "10.2"
      ]
     },
     "execution_count": 33,
     "metadata": {},
     "output_type": "execute_result"
    }
   ],
   "source": [
    "IQR = Q3 - Q1\n",
    "IQR"
   ]
  },
  {
   "cell_type": "code",
   "execution_count": 34,
   "metadata": {},
   "outputs": [
    {
     "data": {
      "text/plain": [
       "(-15.299999999999999, 25.5)"
      ]
     },
     "execution_count": 34,
     "metadata": {},
     "output_type": "execute_result"
    }
   ],
   "source": [
    "lower_limit = Q1 - 1.5*IQR\n",
    "upper_limit = Q3 + 1.5*IQR\n",
    "lower_limit, upper_limit"
   ]
  },
  {
   "cell_type": "code",
   "execution_count": 35,
   "metadata": {},
   "outputs": [
    {
     "data": {
      "text/html": [
       "<div>\n",
       "<style scoped>\n",
       "    .dataframe tbody tr th:only-of-type {\n",
       "        vertical-align: middle;\n",
       "    }\n",
       "\n",
       "    .dataframe tbody tr th {\n",
       "        vertical-align: top;\n",
       "    }\n",
       "\n",
       "    .dataframe thead th {\n",
       "        text-align: right;\n",
       "    }\n",
       "</style>\n",
       "<table border=\"1\" class=\"dataframe\">\n",
       "  <thead>\n",
       "    <tr style=\"text-align: right;\">\n",
       "      <th></th>\n",
       "      <th>Cement</th>\n",
       "      <th>Blast_Furnace_Slag</th>\n",
       "      <th>Fly_Ash</th>\n",
       "      <th>Water</th>\n",
       "      <th>Superplasticizer</th>\n",
       "      <th>Coarse_Aggregate</th>\n",
       "      <th>Fine_Aggregate</th>\n",
       "      <th>Age</th>\n",
       "      <th>Concrete_compressive_strength</th>\n",
       "    </tr>\n",
       "  </thead>\n",
       "  <tbody>\n",
       "    <tr>\n",
       "      <th>76</th>\n",
       "      <td>469.0</td>\n",
       "      <td>117.2</td>\n",
       "      <td>0.0</td>\n",
       "      <td>137.8</td>\n",
       "      <td>32.2</td>\n",
       "      <td>852.1</td>\n",
       "      <td>840.5</td>\n",
       "      <td>3</td>\n",
       "      <td>40.2</td>\n",
       "    </tr>\n",
       "    <tr>\n",
       "      <th>79</th>\n",
       "      <td>531.3</td>\n",
       "      <td>0.0</td>\n",
       "      <td>0.0</td>\n",
       "      <td>141.8</td>\n",
       "      <td>28.2</td>\n",
       "      <td>852.1</td>\n",
       "      <td>893.7</td>\n",
       "      <td>3</td>\n",
       "      <td>41.3</td>\n",
       "    </tr>\n",
       "    <tr>\n",
       "      <th>99</th>\n",
       "      <td>469.0</td>\n",
       "      <td>117.2</td>\n",
       "      <td>0.0</td>\n",
       "      <td>137.8</td>\n",
       "      <td>32.2</td>\n",
       "      <td>852.1</td>\n",
       "      <td>840.5</td>\n",
       "      <td>7</td>\n",
       "      <td>54.9</td>\n",
       "    </tr>\n",
       "    <tr>\n",
       "      <th>102</th>\n",
       "      <td>531.3</td>\n",
       "      <td>0.0</td>\n",
       "      <td>0.0</td>\n",
       "      <td>141.8</td>\n",
       "      <td>28.2</td>\n",
       "      <td>852.1</td>\n",
       "      <td>893.7</td>\n",
       "      <td>7</td>\n",
       "      <td>46.9</td>\n",
       "    </tr>\n",
       "    <tr>\n",
       "      <th>122</th>\n",
       "      <td>469.0</td>\n",
       "      <td>117.2</td>\n",
       "      <td>0.0</td>\n",
       "      <td>137.8</td>\n",
       "      <td>32.2</td>\n",
       "      <td>852.1</td>\n",
       "      <td>840.5</td>\n",
       "      <td>28</td>\n",
       "      <td>66.9</td>\n",
       "    </tr>\n",
       "    <tr>\n",
       "      <th>125</th>\n",
       "      <td>531.3</td>\n",
       "      <td>0.0</td>\n",
       "      <td>0.0</td>\n",
       "      <td>141.8</td>\n",
       "      <td>28.2</td>\n",
       "      <td>852.1</td>\n",
       "      <td>893.7</td>\n",
       "      <td>28</td>\n",
       "      <td>56.4</td>\n",
       "    </tr>\n",
       "    <tr>\n",
       "      <th>145</th>\n",
       "      <td>469.0</td>\n",
       "      <td>117.2</td>\n",
       "      <td>0.0</td>\n",
       "      <td>137.8</td>\n",
       "      <td>32.2</td>\n",
       "      <td>852.1</td>\n",
       "      <td>840.5</td>\n",
       "      <td>56</td>\n",
       "      <td>69.3</td>\n",
       "    </tr>\n",
       "    <tr>\n",
       "      <th>148</th>\n",
       "      <td>531.3</td>\n",
       "      <td>0.0</td>\n",
       "      <td>0.0</td>\n",
       "      <td>141.8</td>\n",
       "      <td>28.2</td>\n",
       "      <td>852.1</td>\n",
       "      <td>893.7</td>\n",
       "      <td>56</td>\n",
       "      <td>58.8</td>\n",
       "    </tr>\n",
       "    <tr>\n",
       "      <th>168</th>\n",
       "      <td>469.0</td>\n",
       "      <td>117.2</td>\n",
       "      <td>0.0</td>\n",
       "      <td>137.8</td>\n",
       "      <td>32.2</td>\n",
       "      <td>852.1</td>\n",
       "      <td>840.5</td>\n",
       "      <td>91</td>\n",
       "      <td>70.7</td>\n",
       "    </tr>\n",
       "    <tr>\n",
       "      <th>171</th>\n",
       "      <td>531.3</td>\n",
       "      <td>0.0</td>\n",
       "      <td>0.0</td>\n",
       "      <td>141.8</td>\n",
       "      <td>28.2</td>\n",
       "      <td>852.1</td>\n",
       "      <td>893.7</td>\n",
       "      <td>91</td>\n",
       "      <td>59.2</td>\n",
       "    </tr>\n",
       "  </tbody>\n",
       "</table>\n",
       "</div>"
      ],
      "text/plain": [
       "     Cement  Blast_Furnace_Slag   Fly_Ash  Water  Superplasticizer  \\\n",
       "76    469.0                117.2      0.0  137.8              32.2   \n",
       "79    531.3                  0.0      0.0  141.8              28.2   \n",
       "99    469.0                117.2      0.0  137.8              32.2   \n",
       "102   531.3                  0.0      0.0  141.8              28.2   \n",
       "122   469.0                117.2      0.0  137.8              32.2   \n",
       "125   531.3                  0.0      0.0  141.8              28.2   \n",
       "145   469.0                117.2      0.0  137.8              32.2   \n",
       "148   531.3                  0.0      0.0  141.8              28.2   \n",
       "168   469.0                117.2      0.0  137.8              32.2   \n",
       "171   531.3                  0.0      0.0  141.8              28.2   \n",
       "\n",
       "     Coarse_Aggregate  Fine_Aggregate  Age  Concrete_compressive_strength  \n",
       "76              852.1           840.5    3                           40.2  \n",
       "79              852.1           893.7    3                           41.3  \n",
       "99              852.1           840.5    7                           54.9  \n",
       "102             852.1           893.7    7                           46.9  \n",
       "122             852.1           840.5   28                           66.9  \n",
       "125             852.1           893.7   28                           56.4  \n",
       "145             852.1           840.5   56                           69.3  \n",
       "148             852.1           893.7   56                           58.8  \n",
       "168             852.1           840.5   91                           70.7  \n",
       "171             852.1           893.7   91                           59.2  "
      ]
     },
     "execution_count": 35,
     "metadata": {},
     "output_type": "execute_result"
    }
   ],
   "source": [
    "concrete_df[(concrete_df.Superplasticizer<lower_limit)|(concrete_df.Superplasticizer>upper_limit)]"
   ]
  },
  {
   "cell_type": "markdown",
   "metadata": {},
   "source": [
    "# Observations: Superplasticizer\n",
    " - Ten values were obtained from less than lower limit and more than upper limit.\n",
    " - There were '10' outliers."
   ]
  },
  {
   "cell_type": "code",
   "execution_count": 36,
   "metadata": {},
   "outputs": [
    {
     "data": {
      "image/png": "[encoded data removed]",
      "text/plain": [
       "<Figure size 432x288 with 1 Axes>"
      ]
     },
     "metadata": {},
     "output_type": "display_data"
    }
   ],
   "source": [
    "#Boxplot for column Coarse_Aggregate\n",
    "\n",
    "sns.boxplot(x=concrete_df['Coarse_Aggregate']);"
   ]
  },
  {
   "cell_type": "code",
   "execution_count": 37,
   "metadata": {},
   "outputs": [
    {
     "data": {
      "text/plain": [
       "(932.0, 1029.4)"
      ]
     },
     "execution_count": 37,
     "metadata": {},
     "output_type": "execute_result"
    }
   ],
   "source": [
    "Q1 = concrete_df.Coarse_Aggregate.quantile(0.25)\n",
    "Q3 = concrete_df.Coarse_Aggregate.quantile(0.75)\n",
    "Q1, Q3"
   ]
  },
  {
   "cell_type": "code",
   "execution_count": 38,
   "metadata": {},
   "outputs": [
    {
     "data": {
      "text/plain": [
       "97.40000000000009"
      ]
     },
     "execution_count": 38,
     "metadata": {},
     "output_type": "execute_result"
    }
   ],
   "source": [
    "IQR = Q3 - Q1\n",
    "IQR"
   ]
  },
  {
   "cell_type": "code",
   "execution_count": 39,
   "metadata": {},
   "outputs": [
    {
     "data": {
      "text/plain": [
       "(785.8999999999999, 1175.5000000000002)"
      ]
     },
     "execution_count": 39,
     "metadata": {},
     "output_type": "execute_result"
    }
   ],
   "source": [
    "lower_limit = Q1 - 1.5*IQR\n",
    "upper_limit = Q3 + 1.5*IQR\n",
    "lower_limit, upper_limit"
   ]
  },
  {
   "cell_type": "code",
   "execution_count": 40,
   "metadata": {},
   "outputs": [
    {
     "data": {
      "image/png": "[encoded data removed]",
      "text/plain": [
       "<Figure size 432x288 with 1 Axes>"
      ]
     },
     "metadata": {},
     "output_type": "display_data"
    }
   ],
   "source": [
    "sns.boxplot(x=concrete_df['Coarse_Aggregate']);"
   ]
  },
  {
   "cell_type": "code",
   "execution_count": 41,
   "metadata": {},
   "outputs": [
    {
     "data": {
      "text/plain": [
       "(932.0, 1029.4)"
      ]
     },
     "execution_count": 41,
     "metadata": {},
     "output_type": "execute_result"
    }
   ],
   "source": [
    "Q1 = concrete_df.Coarse_Aggregate.quantile(0.25)\n",
    "Q3 = concrete_df.Coarse_Aggregate.quantile(0.75)\n",
    "Q1, Q3"
   ]
  },
  {
   "cell_type": "code",
   "execution_count": 42,
   "metadata": {},
   "outputs": [
    {
     "data": {
      "text/plain": [
       "97.40000000000009"
      ]
     },
     "execution_count": 42,
     "metadata": {},
     "output_type": "execute_result"
    }
   ],
   "source": [
    "IQR = Q3 - Q1\n",
    "IQR"
   ]
  },
  {
   "cell_type": "code",
   "execution_count": 43,
   "metadata": {},
   "outputs": [
    {
     "data": {
      "text/plain": [
       "(785.8999999999999, 1175.5000000000002)"
      ]
     },
     "execution_count": 43,
     "metadata": {},
     "output_type": "execute_result"
    }
   ],
   "source": [
    "lower_limit = Q1 - 1.5*IQR\n",
    "upper_limit = Q3 + 1.5*IQR\n",
    "lower_limit, upper_limit"
   ]
  },
  {
   "cell_type": "code",
   "execution_count": 44,
   "metadata": {},
   "outputs": [
    {
     "data": {
      "text/html": [
       "<div>\n",
       "<style scoped>\n",
       "    .dataframe tbody tr th:only-of-type {\n",
       "        vertical-align: middle;\n",
       "    }\n",
       "\n",
       "    .dataframe tbody tr th {\n",
       "        vertical-align: top;\n",
       "    }\n",
       "\n",
       "    .dataframe thead th {\n",
       "        text-align: right;\n",
       "    }\n",
       "</style>\n",
       "<table border=\"1\" class=\"dataframe\">\n",
       "  <thead>\n",
       "    <tr style=\"text-align: right;\">\n",
       "      <th></th>\n",
       "      <th>Cement</th>\n",
       "      <th>Blast_Furnace_Slag</th>\n",
       "      <th>Fly_Ash</th>\n",
       "      <th>Water</th>\n",
       "      <th>Superplasticizer</th>\n",
       "      <th>Coarse_Aggregate</th>\n",
       "      <th>Fine_Aggregate</th>\n",
       "      <th>Age</th>\n",
       "      <th>Concrete_compressive_strength</th>\n",
       "    </tr>\n",
       "  </thead>\n",
       "  <tbody>\n",
       "  </tbody>\n",
       "</table>\n",
       "</div>"
      ],
      "text/plain": [
       "Empty DataFrame\n",
       "Columns: [Cement, Blast_Furnace_Slag , Fly_Ash, Water, Superplasticizer, Coarse_Aggregate, Fine_Aggregate, Age, Concrete_compressive_strength]\n",
       "Index: []"
      ]
     },
     "execution_count": 44,
     "metadata": {},
     "output_type": "execute_result"
    }
   ],
   "source": [
    "concrete_df[(concrete_df.Coarse_Aggregate<lower_limit)|(concrete_df.Coarse_Aggregate>upper_limit)]"
   ]
  },
  {
   "cell_type": "markdown",
   "metadata": {},
   "source": [
    "# Observations: CoarseAggregate\n",
    " - The values obtained less than lower limit and more than upper limit is '0'.\n",
    " - There were no outliers."
   ]
  },
  {
   "cell_type": "markdown",
   "metadata": {},
   "source": []
  },
  {
   "cell_type": "code",
   "execution_count": 45,
   "metadata": {},
   "outputs": [
    {
     "data": {
      "image/png": "[encoded data removed]",
      "text/plain": [
       "<Figure size 432x288 with 1 Axes>"
      ]
     },
     "metadata": {},
     "output_type": "display_data"
    }
   ],
   "source": [
    "# Boxplot for the column Fineaggregate\n",
    "sns.boxplot(x=concrete_df['Fine_Aggregate']);"
   ]
  },
  {
   "cell_type": "code",
   "execution_count": 46,
   "metadata": {},
   "outputs": [
    {
     "data": {
      "text/plain": [
       "(730.95, 824.0)"
      ]
     },
     "execution_count": 46,
     "metadata": {},
     "output_type": "execute_result"
    }
   ],
   "source": [
    "Q1 = concrete_df.Fine_Aggregate.quantile(0.25)\n",
    "Q3 = concrete_df.Fine_Aggregate.quantile(0.75)\n",
    "Q1, Q3"
   ]
  },
  {
   "cell_type": "code",
   "execution_count": 47,
   "metadata": {},
   "outputs": [
    {
     "data": {
      "text/plain": [
       "93.04999999999995"
      ]
     },
     "execution_count": 47,
     "metadata": {},
     "output_type": "execute_result"
    }
   ],
   "source": [
    "IQR = Q3 - Q1\n",
    "IQR"
   ]
  },
  {
   "cell_type": "code",
   "execution_count": 48,
   "metadata": {},
   "outputs": [
    {
     "data": {
      "text/plain": [
       "(591.3750000000001, 963.5749999999999)"
      ]
     },
     "execution_count": 48,
     "metadata": {},
     "output_type": "execute_result"
    }
   ],
   "source": [
    "lower_limit = Q1 - 1.5*IQR\n",
    "upper_limit = Q3 + 1.5*IQR\n",
    "lower_limit, upper_limit"
   ]
  },
  {
   "cell_type": "code",
   "execution_count": 49,
   "metadata": {},
   "outputs": [
    {
     "data": {
      "text/html": [
       "<div>\n",
       "<style scoped>\n",
       "    .dataframe tbody tr th:only-of-type {\n",
       "        vertical-align: middle;\n",
       "    }\n",
       "\n",
       "    .dataframe tbody tr th {\n",
       "        vertical-align: top;\n",
       "    }\n",
       "\n",
       "    .dataframe thead th {\n",
       "        text-align: right;\n",
       "    }\n",
       "</style>\n",
       "<table border=\"1\" class=\"dataframe\">\n",
       "  <thead>\n",
       "    <tr style=\"text-align: right;\">\n",
       "      <th></th>\n",
       "      <th>Cement</th>\n",
       "      <th>Blast_Furnace_Slag</th>\n",
       "      <th>Fly_Ash</th>\n",
       "      <th>Water</th>\n",
       "      <th>Superplasticizer</th>\n",
       "      <th>Coarse_Aggregate</th>\n",
       "      <th>Fine_Aggregate</th>\n",
       "      <th>Age</th>\n",
       "      <th>Concrete_compressive_strength</th>\n",
       "    </tr>\n",
       "  </thead>\n",
       "  <tbody>\n",
       "    <tr>\n",
       "      <th>74</th>\n",
       "      <td>375.0</td>\n",
       "      <td>93.8</td>\n",
       "      <td>0.0</td>\n",
       "      <td>126.6</td>\n",
       "      <td>23.4</td>\n",
       "      <td>852.1</td>\n",
       "      <td>992.6</td>\n",
       "      <td>3</td>\n",
       "      <td>29.0</td>\n",
       "    </tr>\n",
       "    <tr>\n",
       "      <th>97</th>\n",
       "      <td>375.0</td>\n",
       "      <td>93.8</td>\n",
       "      <td>0.0</td>\n",
       "      <td>126.6</td>\n",
       "      <td>23.4</td>\n",
       "      <td>852.1</td>\n",
       "      <td>992.6</td>\n",
       "      <td>7</td>\n",
       "      <td>45.7</td>\n",
       "    </tr>\n",
       "    <tr>\n",
       "      <th>120</th>\n",
       "      <td>375.0</td>\n",
       "      <td>93.8</td>\n",
       "      <td>0.0</td>\n",
       "      <td>126.6</td>\n",
       "      <td>23.4</td>\n",
       "      <td>852.1</td>\n",
       "      <td>992.6</td>\n",
       "      <td>28</td>\n",
       "      <td>56.7</td>\n",
       "    </tr>\n",
       "    <tr>\n",
       "      <th>143</th>\n",
       "      <td>375.0</td>\n",
       "      <td>93.8</td>\n",
       "      <td>0.0</td>\n",
       "      <td>126.6</td>\n",
       "      <td>23.4</td>\n",
       "      <td>852.1</td>\n",
       "      <td>992.6</td>\n",
       "      <td>56</td>\n",
       "      <td>60.2</td>\n",
       "    </tr>\n",
       "    <tr>\n",
       "      <th>166</th>\n",
       "      <td>375.0</td>\n",
       "      <td>93.8</td>\n",
       "      <td>0.0</td>\n",
       "      <td>126.6</td>\n",
       "      <td>23.4</td>\n",
       "      <td>852.1</td>\n",
       "      <td>992.6</td>\n",
       "      <td>91</td>\n",
       "      <td>62.5</td>\n",
       "    </tr>\n",
       "  </tbody>\n",
       "</table>\n",
       "</div>"
      ],
      "text/plain": [
       "     Cement  Blast_Furnace_Slag   Fly_Ash  Water  Superplasticizer  \\\n",
       "74    375.0                 93.8      0.0  126.6              23.4   \n",
       "97    375.0                 93.8      0.0  126.6              23.4   \n",
       "120   375.0                 93.8      0.0  126.6              23.4   \n",
       "143   375.0                 93.8      0.0  126.6              23.4   \n",
       "166   375.0                 93.8      0.0  126.6              23.4   \n",
       "\n",
       "     Coarse_Aggregate  Fine_Aggregate  Age  Concrete_compressive_strength  \n",
       "74              852.1           992.6    3                           29.0  \n",
       "97              852.1           992.6    7                           45.7  \n",
       "120             852.1           992.6   28                           56.7  \n",
       "143             852.1           992.6   56                           60.2  \n",
       "166             852.1           992.6   91                           62.5  "
      ]
     },
     "execution_count": 49,
     "metadata": {},
     "output_type": "execute_result"
    }
   ],
   "source": [
    "concrete_df[(concrete_df.Fine_Aggregate<lower_limit)|(concrete_df.Fine_Aggregate>upper_limit)]"
   ]
  },
  {
   "cell_type": "markdown",
   "metadata": {},
   "source": [
    "# Observations: FineAggregate\n",
    " - Five values were obtained from less than lower limit and more than upper limit.\n",
    " - There were '5' outliers."
   ]
  },
  {
   "cell_type": "code",
   "execution_count": 50,
   "metadata": {},
   "outputs": [
    {
     "data": {
      "image/png": "[encoded data removed]",
      "text/plain": [
       "<Figure size 432x288 with 1 Axes>"
      ]
     },
     "metadata": {},
     "output_type": "display_data"
    }
   ],
   "source": [
    "#Boxplot for column Water\n",
    "\n",
    "sns.boxplot(x=concrete_df['Water']);"
   ]
  },
  {
   "cell_type": "code",
   "execution_count": 51,
   "metadata": {},
   "outputs": [
    {
     "data": {
      "text/plain": [
       "(164.9, 192.0)"
      ]
     },
     "execution_count": 51,
     "metadata": {},
     "output_type": "execute_result"
    }
   ],
   "source": [
    "Q1 = concrete_df.Water.quantile(0.25)\n",
    "Q3 = concrete_df.Water.quantile(0.75)\n",
    "Q1, Q3"
   ]
  },
  {
   "cell_type": "code",
   "execution_count": 52,
   "metadata": {},
   "outputs": [
    {
     "data": {
      "text/plain": [
       "27.099999999999994"
      ]
     },
     "execution_count": 52,
     "metadata": {},
     "output_type": "execute_result"
    }
   ],
   "source": [
    "IQR = Q3 - Q1\n",
    "IQR"
   ]
  },
  {
   "cell_type": "code",
   "execution_count": 53,
   "metadata": {},
   "outputs": [
    {
     "data": {
      "text/plain": [
       "(124.25000000000001, 232.64999999999998)"
      ]
     },
     "execution_count": 53,
     "metadata": {},
     "output_type": "execute_result"
    }
   ],
   "source": [
    "lower_limit = Q1 - 1.5*IQR\n",
    "upper_limit = Q3 + 1.5*IQR\n",
    "lower_limit, upper_limit"
   ]
  },
  {
   "cell_type": "code",
   "execution_count": 54,
   "metadata": {},
   "outputs": [
    {
     "data": {
      "text/html": [
       "<div>\n",
       "<style scoped>\n",
       "    .dataframe tbody tr th:only-of-type {\n",
       "        vertical-align: middle;\n",
       "    }\n",
       "\n",
       "    .dataframe tbody tr th {\n",
       "        vertical-align: top;\n",
       "    }\n",
       "\n",
       "    .dataframe thead th {\n",
       "        text-align: right;\n",
       "    }\n",
       "</style>\n",
       "<table border=\"1\" class=\"dataframe\">\n",
       "  <thead>\n",
       "    <tr style=\"text-align: right;\">\n",
       "      <th></th>\n",
       "      <th>Cement</th>\n",
       "      <th>Blast_Furnace_Slag</th>\n",
       "      <th>Fly_Ash</th>\n",
       "      <th>Water</th>\n",
       "      <th>Superplasticizer</th>\n",
       "      <th>Coarse_Aggregate</th>\n",
       "      <th>Fine_Aggregate</th>\n",
       "      <th>Age</th>\n",
       "      <th>Concrete_compressive_strength</th>\n",
       "    </tr>\n",
       "  </thead>\n",
       "  <tbody>\n",
       "    <tr>\n",
       "      <th>224</th>\n",
       "      <td>168.0</td>\n",
       "      <td>42.1</td>\n",
       "      <td>163.8</td>\n",
       "      <td>121.8</td>\n",
       "      <td>5.7</td>\n",
       "      <td>1058.7</td>\n",
       "      <td>780.1</td>\n",
       "      <td>3</td>\n",
       "      <td>7.75</td>\n",
       "    </tr>\n",
       "    <tr>\n",
       "      <th>225</th>\n",
       "      <td>168.0</td>\n",
       "      <td>42.1</td>\n",
       "      <td>163.8</td>\n",
       "      <td>121.8</td>\n",
       "      <td>5.7</td>\n",
       "      <td>1058.7</td>\n",
       "      <td>780.1</td>\n",
       "      <td>14</td>\n",
       "      <td>17.82</td>\n",
       "    </tr>\n",
       "    <tr>\n",
       "      <th>226</th>\n",
       "      <td>168.0</td>\n",
       "      <td>42.1</td>\n",
       "      <td>163.8</td>\n",
       "      <td>121.8</td>\n",
       "      <td>5.7</td>\n",
       "      <td>1058.7</td>\n",
       "      <td>780.1</td>\n",
       "      <td>28</td>\n",
       "      <td>24.24</td>\n",
       "    </tr>\n",
       "    <tr>\n",
       "      <th>227</th>\n",
       "      <td>168.0</td>\n",
       "      <td>42.1</td>\n",
       "      <td>163.8</td>\n",
       "      <td>121.8</td>\n",
       "      <td>5.7</td>\n",
       "      <td>1058.7</td>\n",
       "      <td>780.1</td>\n",
       "      <td>56</td>\n",
       "      <td>32.85</td>\n",
       "    </tr>\n",
       "    <tr>\n",
       "      <th>228</th>\n",
       "      <td>168.0</td>\n",
       "      <td>42.1</td>\n",
       "      <td>163.8</td>\n",
       "      <td>121.8</td>\n",
       "      <td>5.7</td>\n",
       "      <td>1058.7</td>\n",
       "      <td>780.1</td>\n",
       "      <td>100</td>\n",
       "      <td>39.23</td>\n",
       "    </tr>\n",
       "    <tr>\n",
       "      <th>862</th>\n",
       "      <td>140.0</td>\n",
       "      <td>164.0</td>\n",
       "      <td>128.0</td>\n",
       "      <td>237.0</td>\n",
       "      <td>6.0</td>\n",
       "      <td>869.0</td>\n",
       "      <td>656.0</td>\n",
       "      <td>28</td>\n",
       "      <td>35.23</td>\n",
       "    </tr>\n",
       "    <tr>\n",
       "      <th>873</th>\n",
       "      <td>237.0</td>\n",
       "      <td>92.0</td>\n",
       "      <td>71.0</td>\n",
       "      <td>247.0</td>\n",
       "      <td>6.0</td>\n",
       "      <td>853.0</td>\n",
       "      <td>695.0</td>\n",
       "      <td>28</td>\n",
       "      <td>28.63</td>\n",
       "    </tr>\n",
       "    <tr>\n",
       "      <th>936</th>\n",
       "      <td>236.9</td>\n",
       "      <td>91.7</td>\n",
       "      <td>71.5</td>\n",
       "      <td>246.9</td>\n",
       "      <td>6.0</td>\n",
       "      <td>852.9</td>\n",
       "      <td>695.4</td>\n",
       "      <td>28</td>\n",
       "      <td>28.63</td>\n",
       "    </tr>\n",
       "    <tr>\n",
       "      <th>1019</th>\n",
       "      <td>139.7</td>\n",
       "      <td>163.9</td>\n",
       "      <td>127.7</td>\n",
       "      <td>236.7</td>\n",
       "      <td>5.8</td>\n",
       "      <td>868.6</td>\n",
       "      <td>655.6</td>\n",
       "      <td>28</td>\n",
       "      <td>35.23</td>\n",
       "    </tr>\n",
       "  </tbody>\n",
       "</table>\n",
       "</div>"
      ],
      "text/plain": [
       "      Cement  Blast_Furnace_Slag   Fly_Ash  Water  Superplasticizer  \\\n",
       "224    168.0                 42.1    163.8  121.8               5.7   \n",
       "225    168.0                 42.1    163.8  121.8               5.7   \n",
       "226    168.0                 42.1    163.8  121.8               5.7   \n",
       "227    168.0                 42.1    163.8  121.8               5.7   \n",
       "228    168.0                 42.1    163.8  121.8               5.7   \n",
       "862    140.0                164.0    128.0  237.0               6.0   \n",
       "873    237.0                 92.0     71.0  247.0               6.0   \n",
       "936    236.9                 91.7     71.5  246.9               6.0   \n",
       "1019   139.7                163.9    127.7  236.7               5.8   \n",
       "\n",
       "      Coarse_Aggregate  Fine_Aggregate  Age  Concrete_compressive_strength  \n",
       "224             1058.7           780.1    3                           7.75  \n",
       "225             1058.7           780.1   14                          17.82  \n",
       "226             1058.7           780.1   28                          24.24  \n",
       "227             1058.7           780.1   56                          32.85  \n",
       "228             1058.7           780.1  100                          39.23  \n",
       "862              869.0           656.0   28                          35.23  \n",
       "873              853.0           695.0   28                          28.63  \n",
       "936              852.9           695.4   28                          28.63  \n",
       "1019             868.6           655.6   28                          35.23  "
      ]
     },
     "execution_count": 54,
     "metadata": {},
     "output_type": "execute_result"
    }
   ],
   "source": [
    "concrete_df[(concrete_df.Water<lower_limit)|(concrete_df.Water>upper_limit)]"
   ]
  },
  {
   "cell_type": "markdown",
   "metadata": {},
   "source": [
    "# Observations: Water\n",
    " - Nine values were obtained from less than lower limit and more than upper limit.\n",
    " - There were '9' outliers."
   ]
  },
  {
   "cell_type": "code",
   "execution_count": 55,
   "metadata": {},
   "outputs": [
    {
     "data": {
      "image/png": "[encoded data removed]",
      "text/plain": [
       "<Figure size 432x288 with 1 Axes>"
      ]
     },
     "metadata": {},
     "output_type": "display_data"
    }
   ],
   "source": [
    "#Boxplot for the column Age\n",
    "\n",
    "sns.boxplot(x=concrete_df['Age']);"
   ]
  },
  {
   "cell_type": "code",
   "execution_count": 56,
   "metadata": {},
   "outputs": [
    {
     "data": {
      "text/plain": [
       "(7.0, 56.0)"
      ]
     },
     "execution_count": 56,
     "metadata": {},
     "output_type": "execute_result"
    }
   ],
   "source": [
    "Q1 = concrete_df.Age.quantile(0.25)\n",
    "Q3 = concrete_df.Age.quantile(0.75)\n",
    "Q1, Q3"
   ]
  },
  {
   "cell_type": "code",
   "execution_count": 57,
   "metadata": {},
   "outputs": [
    {
     "data": {
      "text/plain": [
       "49.0"
      ]
     },
     "execution_count": 57,
     "metadata": {},
     "output_type": "execute_result"
    }
   ],
   "source": [
    "IQR = Q3 - Q1\n",
    "IQR\n"
   ]
  },
  {
   "cell_type": "code",
   "execution_count": 58,
   "metadata": {},
   "outputs": [
    {
     "data": {
      "text/plain": [
       "(-66.5, 129.5)"
      ]
     },
     "execution_count": 58,
     "metadata": {},
     "output_type": "execute_result"
    }
   ],
   "source": [
    "lower_limit = Q1 - 1.5*IQR\n",
    "upper_limit = Q3 + 1.5*IQR\n",
    "lower_limit, upper_limit"
   ]
  },
  {
   "cell_type": "code",
   "execution_count": 59,
   "metadata": {},
   "outputs": [
    {
     "data": {
      "text/html": [
       "<div>\n",
       "<style scoped>\n",
       "    .dataframe tbody tr th:only-of-type {\n",
       "        vertical-align: middle;\n",
       "    }\n",
       "\n",
       "    .dataframe tbody tr th {\n",
       "        vertical-align: top;\n",
       "    }\n",
       "\n",
       "    .dataframe thead th {\n",
       "        text-align: right;\n",
       "    }\n",
       "</style>\n",
       "<table border=\"1\" class=\"dataframe\">\n",
       "  <thead>\n",
       "    <tr style=\"text-align: right;\">\n",
       "      <th></th>\n",
       "      <th>Cement</th>\n",
       "      <th>Blast_Furnace_Slag</th>\n",
       "      <th>Fly_Ash</th>\n",
       "      <th>Water</th>\n",
       "      <th>Superplasticizer</th>\n",
       "      <th>Coarse_Aggregate</th>\n",
       "      <th>Fine_Aggregate</th>\n",
       "      <th>Age</th>\n",
       "      <th>Concrete_compressive_strength</th>\n",
       "    </tr>\n",
       "  </thead>\n",
       "  <tbody>\n",
       "    <tr>\n",
       "      <th>2</th>\n",
       "      <td>332.5</td>\n",
       "      <td>142.5</td>\n",
       "      <td>0.0</td>\n",
       "      <td>228.0</td>\n",
       "      <td>0.0</td>\n",
       "      <td>932.0</td>\n",
       "      <td>594.0</td>\n",
       "      <td>270</td>\n",
       "      <td>40.27</td>\n",
       "    </tr>\n",
       "    <tr>\n",
       "      <th>3</th>\n",
       "      <td>332.5</td>\n",
       "      <td>142.5</td>\n",
       "      <td>0.0</td>\n",
       "      <td>228.0</td>\n",
       "      <td>0.0</td>\n",
       "      <td>932.0</td>\n",
       "      <td>594.0</td>\n",
       "      <td>365</td>\n",
       "      <td>41.05</td>\n",
       "    </tr>\n",
       "    <tr>\n",
       "      <th>4</th>\n",
       "      <td>198.6</td>\n",
       "      <td>132.4</td>\n",
       "      <td>0.0</td>\n",
       "      <td>192.0</td>\n",
       "      <td>0.0</td>\n",
       "      <td>978.4</td>\n",
       "      <td>825.5</td>\n",
       "      <td>360</td>\n",
       "      <td>44.30</td>\n",
       "    </tr>\n",
       "    <tr>\n",
       "      <th>6</th>\n",
       "      <td>380.0</td>\n",
       "      <td>95.0</td>\n",
       "      <td>0.0</td>\n",
       "      <td>228.0</td>\n",
       "      <td>0.0</td>\n",
       "      <td>932.0</td>\n",
       "      <td>594.0</td>\n",
       "      <td>365</td>\n",
       "      <td>43.70</td>\n",
       "    </tr>\n",
       "    <tr>\n",
       "      <th>12</th>\n",
       "      <td>427.5</td>\n",
       "      <td>47.5</td>\n",
       "      <td>0.0</td>\n",
       "      <td>228.0</td>\n",
       "      <td>0.0</td>\n",
       "      <td>932.0</td>\n",
       "      <td>594.0</td>\n",
       "      <td>270</td>\n",
       "      <td>43.01</td>\n",
       "    </tr>\n",
       "    <tr>\n",
       "      <th>17</th>\n",
       "      <td>342.0</td>\n",
       "      <td>38.0</td>\n",
       "      <td>0.0</td>\n",
       "      <td>228.0</td>\n",
       "      <td>0.0</td>\n",
       "      <td>932.0</td>\n",
       "      <td>670.0</td>\n",
       "      <td>365</td>\n",
       "      <td>56.14</td>\n",
       "    </tr>\n",
       "    <tr>\n",
       "      <th>19</th>\n",
       "      <td>475.0</td>\n",
       "      <td>0.0</td>\n",
       "      <td>0.0</td>\n",
       "      <td>228.0</td>\n",
       "      <td>0.0</td>\n",
       "      <td>932.0</td>\n",
       "      <td>594.0</td>\n",
       "      <td>180</td>\n",
       "      <td>42.62</td>\n",
       "    </tr>\n",
       "    <tr>\n",
       "      <th>20</th>\n",
       "      <td>427.5</td>\n",
       "      <td>47.5</td>\n",
       "      <td>0.0</td>\n",
       "      <td>228.0</td>\n",
       "      <td>0.0</td>\n",
       "      <td>932.0</td>\n",
       "      <td>594.0</td>\n",
       "      <td>180</td>\n",
       "      <td>41.84</td>\n",
       "    </tr>\n",
       "    <tr>\n",
       "      <th>23</th>\n",
       "      <td>139.6</td>\n",
       "      <td>209.4</td>\n",
       "      <td>0.0</td>\n",
       "      <td>192.0</td>\n",
       "      <td>0.0</td>\n",
       "      <td>1047.0</td>\n",
       "      <td>806.9</td>\n",
       "      <td>180</td>\n",
       "      <td>44.21</td>\n",
       "    </tr>\n",
       "    <tr>\n",
       "      <th>24</th>\n",
       "      <td>380.0</td>\n",
       "      <td>0.0</td>\n",
       "      <td>0.0</td>\n",
       "      <td>228.0</td>\n",
       "      <td>0.0</td>\n",
       "      <td>932.0</td>\n",
       "      <td>670.0</td>\n",
       "      <td>365</td>\n",
       "      <td>52.52</td>\n",
       "    </tr>\n",
       "    <tr>\n",
       "      <th>25</th>\n",
       "      <td>380.0</td>\n",
       "      <td>0.0</td>\n",
       "      <td>0.0</td>\n",
       "      <td>228.0</td>\n",
       "      <td>0.0</td>\n",
       "      <td>932.0</td>\n",
       "      <td>670.0</td>\n",
       "      <td>270</td>\n",
       "      <td>53.30</td>\n",
       "    </tr>\n",
       "    <tr>\n",
       "      <th>26</th>\n",
       "      <td>380.0</td>\n",
       "      <td>95.0</td>\n",
       "      <td>0.0</td>\n",
       "      <td>228.0</td>\n",
       "      <td>0.0</td>\n",
       "      <td>932.0</td>\n",
       "      <td>594.0</td>\n",
       "      <td>270</td>\n",
       "      <td>41.15</td>\n",
       "    </tr>\n",
       "    <tr>\n",
       "      <th>27</th>\n",
       "      <td>342.0</td>\n",
       "      <td>38.0</td>\n",
       "      <td>0.0</td>\n",
       "      <td>228.0</td>\n",
       "      <td>0.0</td>\n",
       "      <td>932.0</td>\n",
       "      <td>670.0</td>\n",
       "      <td>180</td>\n",
       "      <td>52.12</td>\n",
       "    </tr>\n",
       "    <tr>\n",
       "      <th>30</th>\n",
       "      <td>304.0</td>\n",
       "      <td>76.0</td>\n",
       "      <td>0.0</td>\n",
       "      <td>228.0</td>\n",
       "      <td>0.0</td>\n",
       "      <td>932.0</td>\n",
       "      <td>670.0</td>\n",
       "      <td>365</td>\n",
       "      <td>55.26</td>\n",
       "    </tr>\n",
       "    <tr>\n",
       "      <th>31</th>\n",
       "      <td>266.0</td>\n",
       "      <td>114.0</td>\n",
       "      <td>0.0</td>\n",
       "      <td>228.0</td>\n",
       "      <td>0.0</td>\n",
       "      <td>932.0</td>\n",
       "      <td>670.0</td>\n",
       "      <td>365</td>\n",
       "      <td>52.91</td>\n",
       "    </tr>\n",
       "    <tr>\n",
       "      <th>32</th>\n",
       "      <td>198.6</td>\n",
       "      <td>132.4</td>\n",
       "      <td>0.0</td>\n",
       "      <td>192.0</td>\n",
       "      <td>0.0</td>\n",
       "      <td>978.4</td>\n",
       "      <td>825.5</td>\n",
       "      <td>180</td>\n",
       "      <td>41.72</td>\n",
       "    </tr>\n",
       "    <tr>\n",
       "      <th>33</th>\n",
       "      <td>475.0</td>\n",
       "      <td>0.0</td>\n",
       "      <td>0.0</td>\n",
       "      <td>228.0</td>\n",
       "      <td>0.0</td>\n",
       "      <td>932.0</td>\n",
       "      <td>594.0</td>\n",
       "      <td>270</td>\n",
       "      <td>42.13</td>\n",
       "    </tr>\n",
       "    <tr>\n",
       "      <th>34</th>\n",
       "      <td>190.0</td>\n",
       "      <td>190.0</td>\n",
       "      <td>0.0</td>\n",
       "      <td>228.0</td>\n",
       "      <td>0.0</td>\n",
       "      <td>932.0</td>\n",
       "      <td>670.0</td>\n",
       "      <td>365</td>\n",
       "      <td>53.69</td>\n",
       "    </tr>\n",
       "    <tr>\n",
       "      <th>35</th>\n",
       "      <td>237.5</td>\n",
       "      <td>237.5</td>\n",
       "      <td>0.0</td>\n",
       "      <td>228.0</td>\n",
       "      <td>0.0</td>\n",
       "      <td>932.0</td>\n",
       "      <td>594.0</td>\n",
       "      <td>270</td>\n",
       "      <td>38.41</td>\n",
       "    </tr>\n",
       "    <tr>\n",
       "      <th>39</th>\n",
       "      <td>237.5</td>\n",
       "      <td>237.5</td>\n",
       "      <td>0.0</td>\n",
       "      <td>228.0</td>\n",
       "      <td>0.0</td>\n",
       "      <td>932.0</td>\n",
       "      <td>594.0</td>\n",
       "      <td>180</td>\n",
       "      <td>36.25</td>\n",
       "    </tr>\n",
       "    <tr>\n",
       "      <th>41</th>\n",
       "      <td>427.5</td>\n",
       "      <td>47.5</td>\n",
       "      <td>0.0</td>\n",
       "      <td>228.0</td>\n",
       "      <td>0.0</td>\n",
       "      <td>932.0</td>\n",
       "      <td>594.0</td>\n",
       "      <td>365</td>\n",
       "      <td>43.70</td>\n",
       "    </tr>\n",
       "    <tr>\n",
       "      <th>42</th>\n",
       "      <td>237.5</td>\n",
       "      <td>237.5</td>\n",
       "      <td>0.0</td>\n",
       "      <td>228.0</td>\n",
       "      <td>0.0</td>\n",
       "      <td>932.0</td>\n",
       "      <td>594.0</td>\n",
       "      <td>365</td>\n",
       "      <td>39.00</td>\n",
       "    </tr>\n",
       "    <tr>\n",
       "      <th>43</th>\n",
       "      <td>380.0</td>\n",
       "      <td>0.0</td>\n",
       "      <td>0.0</td>\n",
       "      <td>228.0</td>\n",
       "      <td>0.0</td>\n",
       "      <td>932.0</td>\n",
       "      <td>670.0</td>\n",
       "      <td>180</td>\n",
       "      <td>53.10</td>\n",
       "    </tr>\n",
       "    <tr>\n",
       "      <th>47</th>\n",
       "      <td>380.0</td>\n",
       "      <td>95.0</td>\n",
       "      <td>0.0</td>\n",
       "      <td>228.0</td>\n",
       "      <td>0.0</td>\n",
       "      <td>932.0</td>\n",
       "      <td>594.0</td>\n",
       "      <td>180</td>\n",
       "      <td>40.76</td>\n",
       "    </tr>\n",
       "    <tr>\n",
       "      <th>50</th>\n",
       "      <td>332.5</td>\n",
       "      <td>142.5</td>\n",
       "      <td>0.0</td>\n",
       "      <td>228.0</td>\n",
       "      <td>0.0</td>\n",
       "      <td>932.0</td>\n",
       "      <td>594.0</td>\n",
       "      <td>180</td>\n",
       "      <td>39.78</td>\n",
       "    </tr>\n",
       "    <tr>\n",
       "      <th>51</th>\n",
       "      <td>190.0</td>\n",
       "      <td>190.0</td>\n",
       "      <td>0.0</td>\n",
       "      <td>228.0</td>\n",
       "      <td>0.0</td>\n",
       "      <td>932.0</td>\n",
       "      <td>670.0</td>\n",
       "      <td>180</td>\n",
       "      <td>46.93</td>\n",
       "    </tr>\n",
       "    <tr>\n",
       "      <th>56</th>\n",
       "      <td>475.0</td>\n",
       "      <td>0.0</td>\n",
       "      <td>0.0</td>\n",
       "      <td>228.0</td>\n",
       "      <td>0.0</td>\n",
       "      <td>932.0</td>\n",
       "      <td>594.0</td>\n",
       "      <td>365</td>\n",
       "      <td>41.93</td>\n",
       "    </tr>\n",
       "    <tr>\n",
       "      <th>58</th>\n",
       "      <td>304.0</td>\n",
       "      <td>76.0</td>\n",
       "      <td>0.0</td>\n",
       "      <td>228.0</td>\n",
       "      <td>0.0</td>\n",
       "      <td>932.0</td>\n",
       "      <td>670.0</td>\n",
       "      <td>180</td>\n",
       "      <td>50.95</td>\n",
       "    </tr>\n",
       "    <tr>\n",
       "      <th>60</th>\n",
       "      <td>304.0</td>\n",
       "      <td>76.0</td>\n",
       "      <td>0.0</td>\n",
       "      <td>228.0</td>\n",
       "      <td>0.0</td>\n",
       "      <td>932.0</td>\n",
       "      <td>670.0</td>\n",
       "      <td>270</td>\n",
       "      <td>54.38</td>\n",
       "    </tr>\n",
       "    <tr>\n",
       "      <th>61</th>\n",
       "      <td>266.0</td>\n",
       "      <td>114.0</td>\n",
       "      <td>0.0</td>\n",
       "      <td>228.0</td>\n",
       "      <td>0.0</td>\n",
       "      <td>932.0</td>\n",
       "      <td>670.0</td>\n",
       "      <td>270</td>\n",
       "      <td>51.73</td>\n",
       "    </tr>\n",
       "    <tr>\n",
       "      <th>63</th>\n",
       "      <td>190.0</td>\n",
       "      <td>190.0</td>\n",
       "      <td>0.0</td>\n",
       "      <td>228.0</td>\n",
       "      <td>0.0</td>\n",
       "      <td>932.0</td>\n",
       "      <td>670.0</td>\n",
       "      <td>270</td>\n",
       "      <td>50.66</td>\n",
       "    </tr>\n",
       "    <tr>\n",
       "      <th>64</th>\n",
       "      <td>266.0</td>\n",
       "      <td>114.0</td>\n",
       "      <td>0.0</td>\n",
       "      <td>228.0</td>\n",
       "      <td>0.0</td>\n",
       "      <td>932.0</td>\n",
       "      <td>670.0</td>\n",
       "      <td>180</td>\n",
       "      <td>48.70</td>\n",
       "    </tr>\n",
       "    <tr>\n",
       "      <th>65</th>\n",
       "      <td>342.0</td>\n",
       "      <td>38.0</td>\n",
       "      <td>0.0</td>\n",
       "      <td>228.0</td>\n",
       "      <td>0.0</td>\n",
       "      <td>932.0</td>\n",
       "      <td>670.0</td>\n",
       "      <td>270</td>\n",
       "      <td>55.06</td>\n",
       "    </tr>\n",
       "    <tr>\n",
       "      <th>66</th>\n",
       "      <td>139.6</td>\n",
       "      <td>209.4</td>\n",
       "      <td>0.0</td>\n",
       "      <td>192.0</td>\n",
       "      <td>0.0</td>\n",
       "      <td>1047.0</td>\n",
       "      <td>806.9</td>\n",
       "      <td>360</td>\n",
       "      <td>44.70</td>\n",
       "    </tr>\n",
       "    <tr>\n",
       "      <th>603</th>\n",
       "      <td>339.0</td>\n",
       "      <td>0.0</td>\n",
       "      <td>0.0</td>\n",
       "      <td>197.0</td>\n",
       "      <td>0.0</td>\n",
       "      <td>968.0</td>\n",
       "      <td>781.0</td>\n",
       "      <td>180</td>\n",
       "      <td>36.45</td>\n",
       "    </tr>\n",
       "    <tr>\n",
       "      <th>604</th>\n",
       "      <td>339.0</td>\n",
       "      <td>0.0</td>\n",
       "      <td>0.0</td>\n",
       "      <td>197.0</td>\n",
       "      <td>0.0</td>\n",
       "      <td>968.0</td>\n",
       "      <td>781.0</td>\n",
       "      <td>365</td>\n",
       "      <td>38.89</td>\n",
       "    </tr>\n",
       "    <tr>\n",
       "      <th>609</th>\n",
       "      <td>236.0</td>\n",
       "      <td>0.0</td>\n",
       "      <td>0.0</td>\n",
       "      <td>193.0</td>\n",
       "      <td>0.0</td>\n",
       "      <td>968.0</td>\n",
       "      <td>885.0</td>\n",
       "      <td>180</td>\n",
       "      <td>24.10</td>\n",
       "    </tr>\n",
       "    <tr>\n",
       "      <th>610</th>\n",
       "      <td>236.0</td>\n",
       "      <td>0.0</td>\n",
       "      <td>0.0</td>\n",
       "      <td>193.0</td>\n",
       "      <td>0.0</td>\n",
       "      <td>968.0</td>\n",
       "      <td>885.0</td>\n",
       "      <td>365</td>\n",
       "      <td>25.08</td>\n",
       "    </tr>\n",
       "    <tr>\n",
       "      <th>615</th>\n",
       "      <td>277.0</td>\n",
       "      <td>0.0</td>\n",
       "      <td>0.0</td>\n",
       "      <td>191.0</td>\n",
       "      <td>0.0</td>\n",
       "      <td>968.0</td>\n",
       "      <td>856.0</td>\n",
       "      <td>180</td>\n",
       "      <td>32.33</td>\n",
       "    </tr>\n",
       "    <tr>\n",
       "      <th>616</th>\n",
       "      <td>277.0</td>\n",
       "      <td>0.0</td>\n",
       "      <td>0.0</td>\n",
       "      <td>191.0</td>\n",
       "      <td>0.0</td>\n",
       "      <td>968.0</td>\n",
       "      <td>856.0</td>\n",
       "      <td>360</td>\n",
       "      <td>33.70</td>\n",
       "    </tr>\n",
       "    <tr>\n",
       "      <th>619</th>\n",
       "      <td>254.0</td>\n",
       "      <td>0.0</td>\n",
       "      <td>0.0</td>\n",
       "      <td>198.0</td>\n",
       "      <td>0.0</td>\n",
       "      <td>968.0</td>\n",
       "      <td>863.0</td>\n",
       "      <td>180</td>\n",
       "      <td>27.63</td>\n",
       "    </tr>\n",
       "    <tr>\n",
       "      <th>620</th>\n",
       "      <td>254.0</td>\n",
       "      <td>0.0</td>\n",
       "      <td>0.0</td>\n",
       "      <td>198.0</td>\n",
       "      <td>0.0</td>\n",
       "      <td>968.0</td>\n",
       "      <td>863.0</td>\n",
       "      <td>365</td>\n",
       "      <td>29.79</td>\n",
       "    </tr>\n",
       "    <tr>\n",
       "      <th>621</th>\n",
       "      <td>307.0</td>\n",
       "      <td>0.0</td>\n",
       "      <td>0.0</td>\n",
       "      <td>193.0</td>\n",
       "      <td>0.0</td>\n",
       "      <td>968.0</td>\n",
       "      <td>812.0</td>\n",
       "      <td>180</td>\n",
       "      <td>34.49</td>\n",
       "    </tr>\n",
       "    <tr>\n",
       "      <th>622</th>\n",
       "      <td>307.0</td>\n",
       "      <td>0.0</td>\n",
       "      <td>0.0</td>\n",
       "      <td>193.0</td>\n",
       "      <td>0.0</td>\n",
       "      <td>968.0</td>\n",
       "      <td>812.0</td>\n",
       "      <td>365</td>\n",
       "      <td>36.15</td>\n",
       "    </tr>\n",
       "    <tr>\n",
       "      <th>755</th>\n",
       "      <td>540.0</td>\n",
       "      <td>0.0</td>\n",
       "      <td>0.0</td>\n",
       "      <td>173.0</td>\n",
       "      <td>0.0</td>\n",
       "      <td>1125.0</td>\n",
       "      <td>613.0</td>\n",
       "      <td>180</td>\n",
       "      <td>71.62</td>\n",
       "    </tr>\n",
       "    <tr>\n",
       "      <th>756</th>\n",
       "      <td>540.0</td>\n",
       "      <td>0.0</td>\n",
       "      <td>0.0</td>\n",
       "      <td>173.0</td>\n",
       "      <td>0.0</td>\n",
       "      <td>1125.0</td>\n",
       "      <td>613.0</td>\n",
       "      <td>270</td>\n",
       "      <td>74.17</td>\n",
       "    </tr>\n",
       "    <tr>\n",
       "      <th>762</th>\n",
       "      <td>350.0</td>\n",
       "      <td>0.0</td>\n",
       "      <td>0.0</td>\n",
       "      <td>203.0</td>\n",
       "      <td>0.0</td>\n",
       "      <td>974.0</td>\n",
       "      <td>775.0</td>\n",
       "      <td>180</td>\n",
       "      <td>32.72</td>\n",
       "    </tr>\n",
       "    <tr>\n",
       "      <th>768</th>\n",
       "      <td>331.0</td>\n",
       "      <td>0.0</td>\n",
       "      <td>0.0</td>\n",
       "      <td>192.0</td>\n",
       "      <td>0.0</td>\n",
       "      <td>978.0</td>\n",
       "      <td>825.0</td>\n",
       "      <td>180</td>\n",
       "      <td>39.00</td>\n",
       "    </tr>\n",
       "    <tr>\n",
       "      <th>769</th>\n",
       "      <td>331.0</td>\n",
       "      <td>0.0</td>\n",
       "      <td>0.0</td>\n",
       "      <td>192.0</td>\n",
       "      <td>0.0</td>\n",
       "      <td>978.0</td>\n",
       "      <td>825.0</td>\n",
       "      <td>360</td>\n",
       "      <td>41.24</td>\n",
       "    </tr>\n",
       "    <tr>\n",
       "      <th>791</th>\n",
       "      <td>349.0</td>\n",
       "      <td>0.0</td>\n",
       "      <td>0.0</td>\n",
       "      <td>192.0</td>\n",
       "      <td>0.0</td>\n",
       "      <td>1047.0</td>\n",
       "      <td>806.0</td>\n",
       "      <td>180</td>\n",
       "      <td>41.05</td>\n",
       "    </tr>\n",
       "    <tr>\n",
       "      <th>792</th>\n",
       "      <td>349.0</td>\n",
       "      <td>0.0</td>\n",
       "      <td>0.0</td>\n",
       "      <td>192.0</td>\n",
       "      <td>0.0</td>\n",
       "      <td>1047.0</td>\n",
       "      <td>806.0</td>\n",
       "      <td>360</td>\n",
       "      <td>42.13</td>\n",
       "    </tr>\n",
       "    <tr>\n",
       "      <th>794</th>\n",
       "      <td>302.0</td>\n",
       "      <td>0.0</td>\n",
       "      <td>0.0</td>\n",
       "      <td>203.0</td>\n",
       "      <td>0.0</td>\n",
       "      <td>974.0</td>\n",
       "      <td>817.0</td>\n",
       "      <td>180</td>\n",
       "      <td>26.74</td>\n",
       "    </tr>\n",
       "    <tr>\n",
       "      <th>795</th>\n",
       "      <td>525.0</td>\n",
       "      <td>0.0</td>\n",
       "      <td>0.0</td>\n",
       "      <td>189.0</td>\n",
       "      <td>0.0</td>\n",
       "      <td>1125.0</td>\n",
       "      <td>613.0</td>\n",
       "      <td>180</td>\n",
       "      <td>61.92</td>\n",
       "    </tr>\n",
       "    <tr>\n",
       "      <th>797</th>\n",
       "      <td>500.0</td>\n",
       "      <td>0.0</td>\n",
       "      <td>0.0</td>\n",
       "      <td>200.0</td>\n",
       "      <td>0.0</td>\n",
       "      <td>1125.0</td>\n",
       "      <td>613.0</td>\n",
       "      <td>180</td>\n",
       "      <td>51.04</td>\n",
       "    </tr>\n",
       "    <tr>\n",
       "      <th>798</th>\n",
       "      <td>500.0</td>\n",
       "      <td>0.0</td>\n",
       "      <td>0.0</td>\n",
       "      <td>200.0</td>\n",
       "      <td>0.0</td>\n",
       "      <td>1125.0</td>\n",
       "      <td>613.0</td>\n",
       "      <td>270</td>\n",
       "      <td>55.16</td>\n",
       "    </tr>\n",
       "    <tr>\n",
       "      <th>813</th>\n",
       "      <td>310.0</td>\n",
       "      <td>0.0</td>\n",
       "      <td>0.0</td>\n",
       "      <td>192.0</td>\n",
       "      <td>0.0</td>\n",
       "      <td>970.0</td>\n",
       "      <td>850.0</td>\n",
       "      <td>180</td>\n",
       "      <td>37.33</td>\n",
       "    </tr>\n",
       "    <tr>\n",
       "      <th>814</th>\n",
       "      <td>310.0</td>\n",
       "      <td>0.0</td>\n",
       "      <td>0.0</td>\n",
       "      <td>192.0</td>\n",
       "      <td>0.0</td>\n",
       "      <td>970.0</td>\n",
       "      <td>850.0</td>\n",
       "      <td>360</td>\n",
       "      <td>38.11</td>\n",
       "    </tr>\n",
       "    <tr>\n",
       "      <th>820</th>\n",
       "      <td>525.0</td>\n",
       "      <td>0.0</td>\n",
       "      <td>0.0</td>\n",
       "      <td>189.0</td>\n",
       "      <td>0.0</td>\n",
       "      <td>1125.0</td>\n",
       "      <td>613.0</td>\n",
       "      <td>270</td>\n",
       "      <td>67.11</td>\n",
       "    </tr>\n",
       "    <tr>\n",
       "      <th>823</th>\n",
       "      <td>322.0</td>\n",
       "      <td>0.0</td>\n",
       "      <td>0.0</td>\n",
       "      <td>203.0</td>\n",
       "      <td>0.0</td>\n",
       "      <td>974.0</td>\n",
       "      <td>800.0</td>\n",
       "      <td>180</td>\n",
       "      <td>29.59</td>\n",
       "    </tr>\n",
       "  </tbody>\n",
       "</table>\n",
       "</div>"
      ],
      "text/plain": [
       "     Cement  Blast_Furnace_Slag   Fly_Ash  Water  Superplasticizer  \\\n",
       "2     332.5                142.5      0.0  228.0               0.0   \n",
       "3     332.5                142.5      0.0  228.0               0.0   \n",
       "4     198.6                132.4      0.0  192.0               0.0   \n",
       "6     380.0                 95.0      0.0  228.0               0.0   \n",
       "12    427.5                 47.5      0.0  228.0               0.0   \n",
       "17    342.0                 38.0      0.0  228.0               0.0   \n",
       "19    475.0                  0.0      0.0  228.0               0.0   \n",
       "20    427.5                 47.5      0.0  228.0               0.0   \n",
       "23    139.6                209.4      0.0  192.0               0.0   \n",
       "24    380.0                  0.0      0.0  228.0               0.0   \n",
       "25    380.0                  0.0      0.0  228.0               0.0   \n",
       "26    380.0                 95.0      0.0  228.0               0.0   \n",
       "27    342.0                 38.0      0.0  228.0               0.0   \n",
       "30    304.0                 76.0      0.0  228.0               0.0   \n",
       "31    266.0                114.0      0.0  228.0               0.0   \n",
       "32    198.6                132.4      0.0  192.0               0.0   \n",
       "33    475.0                  0.0      0.0  228.0               0.0   \n",
       "34    190.0                190.0      0.0  228.0               0.0   \n",
       "35    237.5                237.5      0.0  228.0               0.0   \n",
       "39    237.5                237.5      0.0  228.0               0.0   \n",
       "41    427.5                 47.5      0.0  228.0               0.0   \n",
       "42    237.5                237.5      0.0  228.0               0.0   \n",
       "43    380.0                  0.0      0.0  228.0               0.0   \n",
       "47    380.0                 95.0      0.0  228.0               0.0   \n",
       "50    332.5                142.5      0.0  228.0               0.0   \n",
       "51    190.0                190.0      0.0  228.0               0.0   \n",
       "56    475.0                  0.0      0.0  228.0               0.0   \n",
       "58    304.0                 76.0      0.0  228.0               0.0   \n",
       "60    304.0                 76.0      0.0  228.0               0.0   \n",
       "61    266.0                114.0      0.0  228.0               0.0   \n",
       "63    190.0                190.0      0.0  228.0               0.0   \n",
       "64    266.0                114.0      0.0  228.0               0.0   \n",
       "65    342.0                 38.0      0.0  228.0               0.0   \n",
       "66    139.6                209.4      0.0  192.0               0.0   \n",
       "603   339.0                  0.0      0.0  197.0               0.0   \n",
       "604   339.0                  0.0      0.0  197.0               0.0   \n",
       "609   236.0                  0.0      0.0  193.0               0.0   \n",
       "610   236.0                  0.0      0.0  193.0               0.0   \n",
       "615   277.0                  0.0      0.0  191.0               0.0   \n",
       "616   277.0                  0.0      0.0  191.0               0.0   \n",
       "619   254.0                  0.0      0.0  198.0               0.0   \n",
       "620   254.0                  0.0      0.0  198.0               0.0   \n",
       "621   307.0                  0.0      0.0  193.0               0.0   \n",
       "622   307.0                  0.0      0.0  193.0               0.0   \n",
       "755   540.0                  0.0      0.0  173.0               0.0   \n",
       "756   540.0                  0.0      0.0  173.0               0.0   \n",
       "762   350.0                  0.0      0.0  203.0               0.0   \n",
       "768   331.0                  0.0      0.0  192.0               0.0   \n",
       "769   331.0                  0.0      0.0  192.0               0.0   \n",
       "791   349.0                  0.0      0.0  192.0               0.0   \n",
       "792   349.0                  0.0      0.0  192.0               0.0   \n",
       "794   302.0                  0.0      0.0  203.0               0.0   \n",
       "795   525.0                  0.0      0.0  189.0               0.0   \n",
       "797   500.0                  0.0      0.0  200.0               0.0   \n",
       "798   500.0                  0.0      0.0  200.0               0.0   \n",
       "813   310.0                  0.0      0.0  192.0               0.0   \n",
       "814   310.0                  0.0      0.0  192.0               0.0   \n",
       "820   525.0                  0.0      0.0  189.0               0.0   \n",
       "823   322.0                  0.0      0.0  203.0               0.0   \n",
       "\n",
       "     Coarse_Aggregate  Fine_Aggregate  Age  Concrete_compressive_strength  \n",
       "2               932.0           594.0  270                          40.27  \n",
       "3               932.0           594.0  365                          41.05  \n",
       "4               978.4           825.5  360                          44.30  \n",
       "6               932.0           594.0  365                          43.70  \n",
       "12              932.0           594.0  270                          43.01  \n",
       "17              932.0           670.0  365                          56.14  \n",
       "19              932.0           594.0  180                          42.62  \n",
       "20              932.0           594.0  180                          41.84  \n",
       "23             1047.0           806.9  180                          44.21  \n",
       "24              932.0           670.0  365                          52.52  \n",
       "25              932.0           670.0  270                          53.30  \n",
       "26              932.0           594.0  270                          41.15  \n",
       "27              932.0           670.0  180                          52.12  \n",
       "30              932.0           670.0  365                          55.26  \n",
       "31              932.0           670.0  365                          52.91  \n",
       "32              978.4           825.5  180                          41.72  \n",
       "33              932.0           594.0  270                          42.13  \n",
       "34              932.0           670.0  365                          53.69  \n",
       "35              932.0           594.0  270                          38.41  \n",
       "39              932.0           594.0  180                          36.25  \n",
       "41              932.0           594.0  365                          43.70  \n",
       "42              932.0           594.0  365                          39.00  \n",
       "43              932.0           670.0  180                          53.10  \n",
       "47              932.0           594.0  180                          40.76  \n",
       "50              932.0           594.0  180                          39.78  \n",
       "51              932.0           670.0  180                          46.93  \n",
       "56              932.0           594.0  365                          41.93  \n",
       "58              932.0           670.0  180                          50.95  \n",
       "60              932.0           670.0  270                          54.38  \n",
       "61              932.0           670.0  270                          51.73  \n",
       "63              932.0           670.0  270                          50.66  \n",
       "64              932.0           670.0  180                          48.70  \n",
       "65              932.0           670.0  270                          55.06  \n",
       "66             1047.0           806.9  360                          44.70  \n",
       "603             968.0           781.0  180                          36.45  \n",
       "604             968.0           781.0  365                          38.89  \n",
       "609             968.0           885.0  180                          24.10  \n",
       "610             968.0           885.0  365                          25.08  \n",
       "615             968.0           856.0  180                          32.33  \n",
       "616             968.0           856.0  360                          33.70  \n",
       "619             968.0           863.0  180                          27.63  \n",
       "620             968.0           863.0  365                          29.79  \n",
       "621             968.0           812.0  180                          34.49  \n",
       "622             968.0           812.0  365                          36.15  \n",
       "755            1125.0           613.0  180                          71.62  \n",
       "756            1125.0           613.0  270                          74.17  \n",
       "762             974.0           775.0  180                          32.72  \n",
       "768             978.0           825.0  180                          39.00  \n",
       "769             978.0           825.0  360                          41.24  \n",
       "791            1047.0           806.0  180                          41.05  \n",
       "792            1047.0           806.0  360                          42.13  \n",
       "794             974.0           817.0  180                          26.74  \n",
       "795            1125.0           613.0  180                          61.92  \n",
       "797            1125.0           613.0  180                          51.04  \n",
       "798            1125.0           613.0  270                          55.16  \n",
       "813             970.0           850.0  180                          37.33  \n",
       "814             970.0           850.0  360                          38.11  \n",
       "820            1125.0           613.0  270                          67.11  \n",
       "823             974.0           800.0  180                          29.59  "
      ]
     },
     "execution_count": 59,
     "metadata": {},
     "output_type": "execute_result"
    }
   ],
   "source": [
    "concrete_df[(concrete_df.Age<lower_limit)|(concrete_df.Age>upper_limit)]"
   ]
  },
  {
   "cell_type": "markdown",
   "metadata": {},
   "source": [
    "# Observations: Age\n",
    " - Age has so many values obtained from less than lower limit and more than upper limit.\n",
    " - There were many outliers."
   ]
  },
  {
   "cell_type": "markdown",
   "metadata": {},
   "source": [
    "# Remove outliers"
   ]
  },
  {
   "cell_type": "code",
   "execution_count": 60,
   "metadata": {},
   "outputs": [],
   "source": [
    "cols = ['Cement', 'Blast_Furnace_Slag ', 'Fly_Ash', 'Water', 'Superplasticizer', 'Coarse_Aggregate', 'Fine_Aggregate', 'Age', 'Concrete_compressive_strength'] \n",
    "\n",
    "Q1 = concrete_df[cols].quantile(0.25)\n",
    "Q3 = concrete_df[cols].quantile(0.75)\n",
    "IQR = Q3 - Q1\n",
    "\n",
    "concrete_df = concrete_df[~((concrete_df[cols] < (Q1 - 1.5 * IQR)) |(concrete_df[cols] > (Q3 + 1.5 * IQR))).any(axis=1)]"
   ]
  },
  {
   "cell_type": "code",
   "execution_count": 61,
   "metadata": {},
   "outputs": [
    {
     "data": {
      "text/plain": [
       "(941, 9)"
      ]
     },
     "execution_count": 61,
     "metadata": {},
     "output_type": "execute_result"
    }
   ],
   "source": [
    "concrete_df.shape"
   ]
  },
  {
   "cell_type": "markdown",
   "metadata": {},
   "source": [
    "# Observations:\n",
    "After removing outliers the shape of the dataset differs.\n",
    "It reduces the shape of the dataset."
   ]
  },
  {
   "cell_type": "markdown",
   "metadata": {},
   "source": [
    "# Exploratory data analysis"
   ]
  },
  {
   "cell_type": "markdown",
   "metadata": {},
   "source": [
    "a) Univariate Analysis\n",
    "\n",
    "b) Bi-Variate Analysis"
   ]
  },
  {
   "cell_type": "code",
   "execution_count": 62,
   "metadata": {},
   "outputs": [
    {
     "data": {
      "text/plain": [
       "<matplotlib.axes._subplots.AxesSubplot at 0x1a9f4329ec8>"
      ]
     },
     "execution_count": 62,
     "metadata": {},
     "output_type": "execute_result"
    },
    {
     "data": {
      "text/plain": [
       "Text(0, 0.5, 'Frequency')"
      ]
     },
     "execution_count": 62,
     "metadata": {},
     "output_type": "execute_result"
    },
    {
     "data": {
      "image/png": "[encoded data removed]",
      "text/plain": [
       "<Figure size 432x288 with 1 Axes>"
      ]
     },
     "metadata": {},
     "output_type": "display_data"
    }
   ],
   "source": [
    "#Distrubution plot of column Fly_Ash\n",
    "\n",
    "sns.distplot(concrete_df['Fly_Ash'], bins=10, color='b')\n",
    "\n",
    "plt.ylabel(\"Frequency\")"
   ]
  },
  {
   "cell_type": "code",
   "execution_count": 63,
   "metadata": {},
   "outputs": [
    {
     "data": {
      "text/plain": [
       "<matplotlib.axes._subplots.AxesSubplot at 0x1a9f4404d48>"
      ]
     },
     "execution_count": 63,
     "metadata": {},
     "output_type": "execute_result"
    },
    {
     "data": {
      "image/png": "[encoded data removed]",
      "text/plain": [
       "<Figure size 432x288 with 1 Axes>"
      ]
     },
     "metadata": {},
     "output_type": "display_data"
    }
   ],
   "source": [
    "# Distribution plot without Histogram\n",
    "\n",
    "sns.distplot(concrete_df.Water,hist=False)\n",
    "plt.show()"
   ]
  },
  {
   "cell_type": "code",
   "execution_count": 64,
   "metadata": {},
   "outputs": [
    {
     "data": {
      "text/plain": [
       "<matplotlib.axes._subplots.AxesSubplot at 0x1a9f4482d08>"
      ]
     },
     "execution_count": 64,
     "metadata": {},
     "output_type": "execute_result"
    },
    {
     "data": {
      "text/plain": [
       "<matplotlib.axes._subplots.AxesSubplot at 0x1a9f44b8d08>"
      ]
     },
     "execution_count": 64,
     "metadata": {},
     "output_type": "execute_result"
    },
    {
     "data": {
      "text/plain": [
       "<matplotlib.axes._subplots.AxesSubplot at 0x1a9f44f3808>"
      ]
     },
     "execution_count": 64,
     "metadata": {},
     "output_type": "execute_result"
    },
    {
     "data": {
      "image/png": "[encoded data removed]",
      "text/plain": [
       "<Figure size 1440x720 with 4 Axes>"
      ]
     },
     "metadata": {},
     "output_type": "display_data"
    }
   ],
   "source": [
    "# distribution plots as subplots (Univariate)\n",
    "fig,axes = plt.subplots(2,2, figsize=(20,10))\n",
    "sns.distplot(concrete_df['Fly_Ash'].dropna(),kde=True,ax=axes[0,1])\n",
    "sns.distplot(concrete_df['Coarse_Aggregate'].dropna(),kde=True,ax=axes[1,0])\n",
    "sns.distplot(concrete_df['Fine_Aggregate'].dropna(),kde=True,ax=axes[1,1])"
   ]
  },
  {
   "cell_type": "code",
   "execution_count": 65,
   "metadata": {},
   "outputs": [
    {
     "data": {
      "image/png": "[encoded data removed]",
      "text/plain": [
       "<Figure size 864x432 with 1 Axes>"
      ]
     },
     "metadata": {},
     "output_type": "display_data"
    }
   ],
   "source": [
    "#Box plot\n",
    "\n",
    "plt.subplots(figsize=(12, 6))\n",
    "ax = sns.boxplot(data=concrete_df)\n",
    "ax.set_xticklabels(ax.get_xticklabels(), rotation=45);"
   ]
  },
  {
   "cell_type": "markdown",
   "metadata": {},
   "source": [
    "# Observations:\n",
    "\n",
    "Age column appears to be having maximum number of outliers\n",
    "Slag, Water, superplastic, fineaggregate features have some outliers+"
   ]
  },
  {
   "cell_type": "code",
   "execution_count": 66,
   "metadata": {},
   "outputs": [
    {
     "data": {
      "text/plain": [
       "<matplotlib.axes._subplots.AxesSubplot at 0x1a9f3ef2748>"
      ]
     },
     "execution_count": 66,
     "metadata": {},
     "output_type": "execute_result"
    },
    {
     "data": {
      "text/plain": [
       "<matplotlib.lines.Line2D at 0x1a9f3df8688>"
      ]
     },
     "execution_count": 66,
     "metadata": {},
     "output_type": "execute_result"
    },
    {
     "data": {
      "text/plain": [
       "<matplotlib.legend.Legend at 0x1a9f421c6c8>"
      ]
     },
     "execution_count": 66,
     "metadata": {},
     "output_type": "execute_result"
    },
    {
     "data": {
      "text/plain": [
       "Text(0.5, 1.0, 'Cement')"
      ]
     },
     "execution_count": 66,
     "metadata": {},
     "output_type": "execute_result"
    },
    {
     "data": {
      "text/plain": [
       "Text(0.5, 0, '')"
      ]
     },
     "execution_count": 66,
     "metadata": {},
     "output_type": "execute_result"
    },
    {
     "data": {
      "text/plain": [
       "<matplotlib.axes._subplots.AxesSubplot at 0x1a9f3f4c648>"
      ]
     },
     "execution_count": 66,
     "metadata": {},
     "output_type": "execute_result"
    },
    {
     "data": {
      "text/plain": [
       "<matplotlib.lines.Line2D at 0x1a9f4acf948>"
      ]
     },
     "execution_count": 66,
     "metadata": {},
     "output_type": "execute_result"
    },
    {
     "data": {
      "text/plain": [
       "<matplotlib.legend.Legend at 0x1a9f46877c8>"
      ]
     },
     "execution_count": 66,
     "metadata": {},
     "output_type": "execute_result"
    },
    {
     "data": {
      "text/plain": [
       "Text(0.5, 1.0, 'Blast_Furnace_Slag ')"
      ]
     },
     "execution_count": 66,
     "metadata": {},
     "output_type": "execute_result"
    },
    {
     "data": {
      "text/plain": [
       "Text(0.5, 0, '')"
      ]
     },
     "execution_count": 66,
     "metadata": {},
     "output_type": "execute_result"
    },
    {
     "data": {
      "text/plain": [
       "<matplotlib.axes._subplots.AxesSubplot at 0x1a9f3f3b748>"
      ]
     },
     "execution_count": 66,
     "metadata": {},
     "output_type": "execute_result"
    },
    {
     "data": {
      "text/plain": [
       "<matplotlib.lines.Line2D at 0x1a9f46ddfc8>"
      ]
     },
     "execution_count": 66,
     "metadata": {},
     "output_type": "execute_result"
    },
    {
     "data": {
      "text/plain": [
       "<matplotlib.legend.Legend at 0x1a9f468d188>"
      ]
     },
     "execution_count": 66,
     "metadata": {},
     "output_type": "execute_result"
    },
    {
     "data": {
      "text/plain": [
       "Text(0.5, 1.0, 'Fly_Ash')"
      ]
     },
     "execution_count": 66,
     "metadata": {},
     "output_type": "execute_result"
    },
    {
     "data": {
      "text/plain": [
       "Text(0.5, 0, '')"
      ]
     },
     "execution_count": 66,
     "metadata": {},
     "output_type": "execute_result"
    },
    {
     "data": {
      "text/plain": [
       "<matplotlib.axes._subplots.AxesSubplot at 0x1a9f4779588>"
      ]
     },
     "execution_count": 66,
     "metadata": {},
     "output_type": "execute_result"
    },
    {
     "data": {
      "text/plain": [
       "<matplotlib.lines.Line2D at 0x1a9f493eb88>"
      ]
     },
     "execution_count": 66,
     "metadata": {},
     "output_type": "execute_result"
    },
    {
     "data": {
      "text/plain": [
       "<matplotlib.legend.Legend at 0x1a9f49c6c88>"
      ]
     },
     "execution_count": 66,
     "metadata": {},
     "output_type": "execute_result"
    },
    {
     "data": {
      "text/plain": [
       "Text(0.5, 1.0, 'Water')"
      ]
     },
     "execution_count": 66,
     "metadata": {},
     "output_type": "execute_result"
    },
    {
     "data": {
      "text/plain": [
       "Text(0.5, 0, '')"
      ]
     },
     "execution_count": 66,
     "metadata": {},
     "output_type": "execute_result"
    },
    {
     "data": {
      "text/plain": [
       "<matplotlib.axes._subplots.AxesSubplot at 0x1a9f49d6488>"
      ]
     },
     "execution_count": 66,
     "metadata": {},
     "output_type": "execute_result"
    },
    {
     "data": {
      "text/plain": [
       "<matplotlib.lines.Line2D at 0x1a9f4dc9b48>"
      ]
     },
     "execution_count": 66,
     "metadata": {},
     "output_type": "execute_result"
    },
    {
     "data": {
      "text/plain": [
       "<matplotlib.legend.Legend at 0x1a9f4e53a48>"
      ]
     },
     "execution_count": 66,
     "metadata": {},
     "output_type": "execute_result"
    },
    {
     "data": {
      "text/plain": [
       "Text(0.5, 1.0, 'Superplasticizer')"
      ]
     },
     "execution_count": 66,
     "metadata": {},
     "output_type": "execute_result"
    },
    {
     "data": {
      "text/plain": [
       "Text(0.5, 0, '')"
      ]
     },
     "execution_count": 66,
     "metadata": {},
     "output_type": "execute_result"
    },
    {
     "data": {
      "text/plain": [
       "<matplotlib.axes._subplots.AxesSubplot at 0x1a9f4e5fc08>"
      ]
     },
     "execution_count": 66,
     "metadata": {},
     "output_type": "execute_result"
    },
    {
     "data": {
      "text/plain": [
       "<matplotlib.lines.Line2D at 0x1a9f4e98488>"
      ]
     },
     "execution_count": 66,
     "metadata": {},
     "output_type": "execute_result"
    },
    {
     "data": {
      "text/plain": [
       "<matplotlib.legend.Legend at 0x1a9f4f4e788>"
      ]
     },
     "execution_count": 66,
     "metadata": {},
     "output_type": "execute_result"
    },
    {
     "data": {
      "text/plain": [
       "Text(0.5, 1.0, 'Coarse_Aggregate')"
      ]
     },
     "execution_count": 66,
     "metadata": {},
     "output_type": "execute_result"
    },
    {
     "data": {
      "text/plain": [
       "Text(0.5, 0, '')"
      ]
     },
     "execution_count": 66,
     "metadata": {},
     "output_type": "execute_result"
    },
    {
     "data": {
      "text/plain": [
       "<matplotlib.axes._subplots.AxesSubplot at 0x1a9f4f5bb88>"
      ]
     },
     "execution_count": 66,
     "metadata": {},
     "output_type": "execute_result"
    },
    {
     "data": {
      "text/plain": [
       "<matplotlib.lines.Line2D at 0x1a9f4fd1f08>"
      ]
     },
     "execution_count": 66,
     "metadata": {},
     "output_type": "execute_result"
    },
    {
     "data": {
      "text/plain": [
       "<matplotlib.legend.Legend at 0x1a9f4f4ec88>"
      ]
     },
     "execution_count": 66,
     "metadata": {},
     "output_type": "execute_result"
    },
    {
     "data": {
      "text/plain": [
       "Text(0.5, 1.0, 'Fine_Aggregate')"
      ]
     },
     "execution_count": 66,
     "metadata": {},
     "output_type": "execute_result"
    },
    {
     "data": {
      "text/plain": [
       "Text(0.5, 0, '')"
      ]
     },
     "execution_count": 66,
     "metadata": {},
     "output_type": "execute_result"
    },
    {
     "data": {
      "text/plain": [
       "<matplotlib.axes._subplots.AxesSubplot at 0x1a9f4f74848>"
      ]
     },
     "execution_count": 66,
     "metadata": {},
     "output_type": "execute_result"
    },
    {
     "data": {
      "text/plain": [
       "<matplotlib.lines.Line2D at 0x1a9f4fd1648>"
      ]
     },
     "execution_count": 66,
     "metadata": {},
     "output_type": "execute_result"
    },
    {
     "data": {
      "text/plain": [
       "<matplotlib.legend.Legend at 0x1a9f50559c8>"
      ]
     },
     "execution_count": 66,
     "metadata": {},
     "output_type": "execute_result"
    },
    {
     "data": {
      "text/plain": [
       "Text(0.5, 1.0, 'Age')"
      ]
     },
     "execution_count": 66,
     "metadata": {},
     "output_type": "execute_result"
    },
    {
     "data": {
      "text/plain": [
       "Text(0.5, 0, '')"
      ]
     },
     "execution_count": 66,
     "metadata": {},
     "output_type": "execute_result"
    },
    {
     "ename": "ValueError",
     "evalue": "num must be 1 <= num <= 8, not 9",
     "output_type": "error",
     "traceback": [
      "\u001b[1;31m---------------------------------------------------------------------------\u001b[0m",
      "\u001b[1;31mValueError\u001b[0m                                Traceback (most recent call last)",
      "\u001b[1;32m<ipython-input-66-f9b1f2192833>\u001b[0m in \u001b[0;36m<module>\u001b[1;34m\u001b[0m\n\u001b[0;32m      7\u001b[0m \u001b[1;33m\u001b[0m\u001b[0m\n\u001b[0;32m      8\u001b[0m \u001b[1;32mfor\u001b[0m \u001b[0mi\u001b[0m\u001b[1;33m,\u001b[0m\u001b[0mj\u001b[0m\u001b[1;33m,\u001b[0m\u001b[0mk\u001b[0m \u001b[1;32min\u001b[0m \u001b[0mit\u001b[0m\u001b[1;33m.\u001b[0m\u001b[0mzip_longest\u001b[0m\u001b[1;33m(\u001b[0m\u001b[0mcols\u001b[0m\u001b[1;33m,\u001b[0m\u001b[0mrange\u001b[0m\u001b[1;33m(\u001b[0m\u001b[0mlength\u001b[0m\u001b[1;33m)\u001b[0m\u001b[1;33m,\u001b[0m\u001b[0mcs\u001b[0m\u001b[1;33m)\u001b[0m\u001b[1;33m:\u001b[0m\u001b[1;33m\u001b[0m\u001b[1;33m\u001b[0m\u001b[0m\n\u001b[1;32m----> 9\u001b[1;33m     \u001b[0mplt\u001b[0m\u001b[1;33m.\u001b[0m\u001b[0msubplot\u001b[0m\u001b[1;33m(\u001b[0m\u001b[1;36m4\u001b[0m\u001b[1;33m,\u001b[0m\u001b[1;36m2\u001b[0m\u001b[1;33m,\u001b[0m\u001b[0mj\u001b[0m\u001b[1;33m+\u001b[0m\u001b[1;36m1\u001b[0m\u001b[1;33m)\u001b[0m\u001b[1;33m\u001b[0m\u001b[1;33m\u001b[0m\u001b[0m\n\u001b[0m\u001b[0;32m     10\u001b[0m     \u001b[0max\u001b[0m \u001b[1;33m=\u001b[0m \u001b[0msns\u001b[0m\u001b[1;33m.\u001b[0m\u001b[0mdistplot\u001b[0m\u001b[1;33m(\u001b[0m\u001b[0mconcrete_df\u001b[0m\u001b[1;33m[\u001b[0m\u001b[0mi\u001b[0m\u001b[1;33m]\u001b[0m\u001b[1;33m,\u001b[0m\u001b[0mcolor\u001b[0m\u001b[1;33m=\u001b[0m\u001b[0mk\u001b[0m\u001b[1;33m,\u001b[0m\u001b[0mrug\u001b[0m\u001b[1;33m=\u001b[0m\u001b[1;32mTrue\u001b[0m\u001b[1;33m)\u001b[0m\u001b[1;33m\u001b[0m\u001b[1;33m\u001b[0m\u001b[0m\n\u001b[0;32m     11\u001b[0m     \u001b[0max\u001b[0m\u001b[1;33m.\u001b[0m\u001b[0mset_facecolor\u001b[0m\u001b[1;33m(\u001b[0m\u001b[1;34m\"w\"\u001b[0m\u001b[1;33m)\u001b[0m\u001b[1;33m\u001b[0m\u001b[1;33m\u001b[0m\u001b[0m\n",
      "\u001b[1;32mC:\\Users\\Bhargavi pala\\anaconda3\\lib\\site-packages\\matplotlib\\pyplot.py\u001b[0m in \u001b[0;36msubplot\u001b[1;34m(*args, **kwargs)\u001b[0m\n\u001b[0;32m   1074\u001b[0m \u001b[1;33m\u001b[0m\u001b[0m\n\u001b[0;32m   1075\u001b[0m     \u001b[0mfig\u001b[0m \u001b[1;33m=\u001b[0m \u001b[0mgcf\u001b[0m\u001b[1;33m(\u001b[0m\u001b[1;33m)\u001b[0m\u001b[1;33m\u001b[0m\u001b[1;33m\u001b[0m\u001b[0m\n\u001b[1;32m-> 1076\u001b[1;33m     \u001b[0ma\u001b[0m \u001b[1;33m=\u001b[0m \u001b[0mfig\u001b[0m\u001b[1;33m.\u001b[0m\u001b[0madd_subplot\u001b[0m\u001b[1;33m(\u001b[0m\u001b[1;33m*\u001b[0m\u001b[0margs\u001b[0m\u001b[1;33m,\u001b[0m \u001b[1;33m**\u001b[0m\u001b[0mkwargs\u001b[0m\u001b[1;33m)\u001b[0m\u001b[1;33m\u001b[0m\u001b[1;33m\u001b[0m\u001b[0m\n\u001b[0m\u001b[0;32m   1077\u001b[0m     \u001b[0mbbox\u001b[0m \u001b[1;33m=\u001b[0m \u001b[0ma\u001b[0m\u001b[1;33m.\u001b[0m\u001b[0mbbox\u001b[0m\u001b[1;33m\u001b[0m\u001b[1;33m\u001b[0m\u001b[0m\n\u001b[0;32m   1078\u001b[0m     \u001b[0mbyebye\u001b[0m \u001b[1;33m=\u001b[0m \u001b[1;33m[\u001b[0m\u001b[1;33m]\u001b[0m\u001b[1;33m\u001b[0m\u001b[1;33m\u001b[0m\u001b[0m\n",
      "\u001b[1;32mC:\\Users\\Bhargavi pala\\anaconda3\\lib\\site-packages\\matplotlib\\figure.py\u001b[0m in \u001b[0;36madd_subplot\u001b[1;34m(self, *args, **kwargs)\u001b[0m\n\u001b[0;32m   1412\u001b[0m                     \u001b[0mself\u001b[0m\u001b[1;33m.\u001b[0m\u001b[0m_axstack\u001b[0m\u001b[1;33m.\u001b[0m\u001b[0mremove\u001b[0m\u001b[1;33m(\u001b[0m\u001b[0max\u001b[0m\u001b[1;33m)\u001b[0m\u001b[1;33m\u001b[0m\u001b[1;33m\u001b[0m\u001b[0m\n\u001b[0;32m   1413\u001b[0m \u001b[1;33m\u001b[0m\u001b[0m\n\u001b[1;32m-> 1414\u001b[1;33m             \u001b[0ma\u001b[0m \u001b[1;33m=\u001b[0m \u001b[0msubplot_class_factory\u001b[0m\u001b[1;33m(\u001b[0m\u001b[0mprojection_class\u001b[0m\u001b[1;33m)\u001b[0m\u001b[1;33m(\u001b[0m\u001b[0mself\u001b[0m\u001b[1;33m,\u001b[0m \u001b[1;33m*\u001b[0m\u001b[0margs\u001b[0m\u001b[1;33m,\u001b[0m \u001b[1;33m**\u001b[0m\u001b[0mkwargs\u001b[0m\u001b[1;33m)\u001b[0m\u001b[1;33m\u001b[0m\u001b[1;33m\u001b[0m\u001b[0m\n\u001b[0m\u001b[0;32m   1415\u001b[0m \u001b[1;33m\u001b[0m\u001b[0m\n\u001b[0;32m   1416\u001b[0m         \u001b[1;32mreturn\u001b[0m \u001b[0mself\u001b[0m\u001b[1;33m.\u001b[0m\u001b[0m_add_axes_internal\u001b[0m\u001b[1;33m(\u001b[0m\u001b[0mkey\u001b[0m\u001b[1;33m,\u001b[0m \u001b[0ma\u001b[0m\u001b[1;33m)\u001b[0m\u001b[1;33m\u001b[0m\u001b[1;33m\u001b[0m\u001b[0m\n",
      "\u001b[1;32mC:\\Users\\Bhargavi pala\\anaconda3\\lib\\site-packages\\matplotlib\\axes\\_subplots.py\u001b[0m in \u001b[0;36m__init__\u001b[1;34m(self, fig, *args, **kwargs)\u001b[0m\n\u001b[0;32m     57\u001b[0m                 \u001b[1;32mif\u001b[0m \u001b[0mnum\u001b[0m \u001b[1;33m<\u001b[0m \u001b[1;36m1\u001b[0m \u001b[1;32mor\u001b[0m \u001b[0mnum\u001b[0m \u001b[1;33m>\u001b[0m \u001b[0mrows\u001b[0m\u001b[1;33m*\u001b[0m\u001b[0mcols\u001b[0m\u001b[1;33m:\u001b[0m\u001b[1;33m\u001b[0m\u001b[1;33m\u001b[0m\u001b[0m\n\u001b[0;32m     58\u001b[0m                     raise ValueError(\n\u001b[1;32m---> 59\u001b[1;33m                         f\"num must be 1 <= num <= {rows*cols}, not {num}\")\n\u001b[0m\u001b[0;32m     60\u001b[0m                 self._subplotspec = GridSpec(\n\u001b[0;32m     61\u001b[0m                         rows, cols, figure=self.figure)[int(num) - 1]\n",
      "\u001b[1;31mValueError\u001b[0m: num must be 1 <= num <= 8, not 9"
     ]
    },
    {
     "data": {
      "image/png": "[encoded data removed]",
      "text/plain": [
       "<Figure size 936x1800 with 8 Axes>"
      ]
     },
     "metadata": {},
     "output_type": "display_data"
    }
   ],
   "source": [
    "# Distribution of components of concrete\n",
    "\n",
    "cols = [i for i in concrete_df.columns if i not in 'compressive_strength']\n",
    "length = len(cols)\n",
    "cs = [\"b\",\"r\",\"g\",\"c\",\"m\",\"k\",\"lime\",\"c\"]\n",
    "fig = plt.figure(figsize=(13,25))\n",
    "\n",
    "for i,j,k in it.zip_longest(cols,range(length),cs):\n",
    "    plt.subplot(4,2,j+1)\n",
    "    ax = sns.distplot(concrete_df[i],color=k,rug=True)\n",
    "    ax.set_facecolor(\"w\")\n",
    "    plt.axvline(concrete_df[i].mean(),linestyle=\"dashed\",label=\"mean\",color=\"k\")\n",
    "    plt.legend(loc=\"best\")\n",
    "    plt.title(i,color=\"navy\")\n",
    "    plt.xlabel(\"\");"
   ]
  },
  {
   "cell_type": "markdown",
   "metadata": {},
   "source": [
    "# Observations:\n",
    "\n",
    " - Cement is almost normal.\n",
    " - BlastFurnace has three gausssians and rightly skewed.\n",
    " - FlyAsh has two gaussians and rightly skewed.\n",
    " - Water has three guassians and slighly left skewed.\n",
    " - Superplasticizer has two gaussians and rightly skewed.\n",
    " - CoarseAggregate has three guassians and almost normal.\n",
    " - FineAggregate has almost two guassians and looks like normal.\n",
    " - Age has multiple guassians and rightly skewed.\n",
    " - ConcreteCompressiveStrength looks like normal."
   ]
  },
  {
   "cell_type": "code",
   "execution_count": null,
   "metadata": {},
   "outputs": [],
   "source": [
    "#Correlation Matrix\n",
    "\n",
    "sns.heatmap(concrete_df.corr(), annot=True, linewidth=2)\n",
    "plt.title(\"Correlation between variables\")\n",
    "plt.show();"
   ]
  },
  {
   "cell_type": "code",
   "execution_count": null,
   "metadata": {},
   "outputs": [],
   "source": [
    "concrete_df.corr()"
   ]
  },
  {
   "cell_type": "markdown",
   "metadata": {},
   "source": [
    "# Observations:\n",
    " - The correlation values between the attributes ."
   ]
  },
  {
   "cell_type": "code",
   "execution_count": null,
   "metadata": {},
   "outputs": [],
   "source": [
    "# Scatterplot between components\n",
    "\n",
    "fig = plt.figure(figsize=(13,8))\n",
    "ax = fig.add_subplot(111)\n",
    "plt.scatter(concrete_df[\"Water\"],concrete_df[\"Cement\"],\n",
    "            c=concrete_df[\"Concrete_compressive_strength\"],s=concrete_df[\"Concrete_compressive_strength\"]*3,\n",
    "            linewidth=1,edgecolor=\"k\",cmap=\"viridis\")\n",
    "ax.set_facecolor(\"w\")\n",
    "ax.set_xlabel(\"Water\")\n",
    "ax.set_ylabel(\"Cement\")\n",
    "lab = plt.colorbar()\n",
    "lab.set_label(\"Concrete_compressive_strength\")\n",
    "plt.title(\"cement vs water\")\n",
    "plt.show()"
   ]
  },
  {
   "cell_type": "markdown",
   "metadata": {},
   "source": []
  },
  {
   "cell_type": "code",
   "execution_count": null,
   "metadata": {},
   "outputs": [],
   "source": [
    "# pairplot of dataframe\n",
    "sns.pairplot(concrete_df, diag_kind='kde' )\n",
    "plt.show()"
   ]
  },
  {
   "cell_type": "markdown",
   "metadata": {},
   "source": [
    "# Diagonals Analysis\n",
    "### The diagonal gives the same information, we got using distplot.\n",
    "\n",
    " - Cement attribute have almost normal curve.\n",
    " - BlastFurnace has two gausssians and rightly skewed.It shows the presence of outlies.\n",
    " - FlyAsh has two gaussians and rightly skewed.It shows the presence of outlies.\n",
    " - Water has atleast guassians and slighly left skewed.It shows the presence of outlies.\n",
    " - Superplasticizer has multiple gaussians and rightly skewed.It shows the presence of outlies.\n",
    " - CoarseAggregate has three guassians and almost normal.\n",
    " - FineAggregate has almost two guassians and looks like normal.\n",
    " - Age has multiple guassians and rightly skewed. It shows the presence of outlies.\n",
    " - ConcreteCompressiveStrength is close to a normal curve."
   ]
  },
  {
   "cell_type": "markdown",
   "metadata": {},
   "source": [
    "# What is the type of machine learning problem at hand? (Supervised or Unsupervised?) why?\n"
   ]
  },
  {
   "cell_type": "markdown",
   "metadata": {},
   "source": [
    "Supervised Machine learning (Regression technique) In supervised learning, models are trained using labelled dataset, where the model learns about each type of data. Once the training process is completed, the model is tested on the basis of test data (a subset of the training set), and then it predicts the output."
   ]
  },
  {
   "cell_type": "markdown",
   "metadata": {},
   "source": [
    "# Splitting the data into Train and Test"
   ]
  },
  {
   "cell_type": "code",
   "execution_count": null,
   "metadata": {},
   "outputs": [],
   "source": [
    "# The dataset is divided into a 70 to 30 splitting between training data and test data\n",
    "\n",
    "from sklearn.model_selection import train_test_split\n",
    "train,test = train_test_split(concrete_df,test_size =.3,random_state = 0)\n",
    "train_X = train[[x for x in train.columns if x not in [\"Concrete_compressive_strength\"] + [\"age_months\"]]]\n",
    "train_Y = train[\"Concrete_compressive_strength\"]\n",
    "test_X  = test[[x for x in test.columns if x not in [\"Concrete_compressive_strength\"] + [\"age_months\"]]]\n",
    "test_Y  = test[\"Concrete_compressive_strength\"]\n"
   ]
  },
  {
   "cell_type": "code",
   "execution_count": null,
   "metadata": {},
   "outputs": [],
   "source": [
    "# Check for the sampled data\n",
    "\n",
    "print(train_X.shape)\n",
    "print(train_Y.shape)\n",
    "print(test_X.shape)\n",
    "print(test_Y.shape)|"
   ]
  },
  {
   "cell_type": "markdown",
   "metadata": {},
   "source": [
    "### Feature Scaling"
   ]
  },
  {
   "cell_type": "code",
   "execution_count": null,
   "metadata": {},
   "outputs": [],
   "source": [
    "from sklearn.preprocessing import StandardScaler\n",
    "stand= StandardScaler()\n",
    "Fit = stand.fit(train_X)\n",
    "train_X_scl = Fit.transform(train_X)\n",
    "test_X_scl = Fit.transform(test_X)"
   ]
  },
  {
   "cell_type": "markdown",
   "metadata": {},
   "source": [
    "we import train_test_split from scikit-learn then create StandardScaler() class object, after creating the object we fit train data into StandardScaler for scaling the data and then we transform the train and test data into an array."
   ]
  },
  {
   "cell_type": "markdown",
   "metadata": {},
   "source": [
    "# There are 3 main metrics for model evaluation in regression:\n",
    "1. R Square/Adjusted R Square\n",
    "2. Mean Square Error(MSE)/Root Mean Square Error(RMSE)\n",
    "3. Mean Absolute Error(MAE)"
   ]
  },
  {
   "cell_type": "markdown",
   "metadata": {},
   "source": [
    "# Multiple linear regression"
   ]
  },
  {
   "cell_type": "code",
   "execution_count": null,
   "metadata": {},
   "outputs": [],
   "source": [
    "#fit a model\n",
    "\n",
    "from sklearn.linear_model import LinearRegression\n",
    "from sklearn.metrics import mean_squared_error\n",
    "from sklearn import metrics\n",
    "lm = LinearRegression()\n",
    "model1 = lm.fit(train_X, train_Y)\n",
    "predictions1 = lm.predict(test_X)\n",
    "m1=model1.score(test_X, test_Y)\n",
    "RMSE1=np.sqrt(metrics.mean_squared_error(test_Y, predictions1))\n",
    "print('Accuracy of model is', model1.score(test_X, test_Y))\n",
    "print('Mean Absolute Error:', metrics.mean_absolute_error(test_Y, predictions1))  \n",
    "print('Mean Squared Error:', metrics.mean_squared_error(test_Y, predictions1))  \n",
    "print('Root Mean Squared Error:', np.sqrt(metrics.mean_squared_error(test_Y, predictions1)))"
   ]
  },
  {
   "cell_type": "code",
   "execution_count": null,
   "metadata": {},
   "outputs": [],
   "source": [
    "# Features Importance\n",
    "\n",
    "coef=pd.DataFrame(lm.coef_.ravel())\n",
    "coef['feat']=train_X.columns\n",
    "c=coef['feat'].rows=['C','Bfs','Fa','W','Sp','Ca','Fa','a']\n",
    "num_colors = 8;\n",
    "colors = cm.rainbow(np.linspace(0,1,num_colors))\n",
    "plt.bar(c,coef[0], color=colors)\n",
    "plt.show()\n",
    "'where C:Cement, Bfs: Blast_Furnace_Slag, Fa: Fly_Ash, W:Water, Sp:Superplasticizer, Ca:Coarse_Aggregate, Fa: Fine_Aggregate, a: Age'"
   ]
  },
  {
   "cell_type": "code",
   "execution_count": null,
   "metadata": {},
   "outputs": [],
   "source": [
    "#Plot of true value vs. predicted values\n",
    "dat = pd.DataFrame({'Actual': test_Y, 'Predicted': predictions1})\n",
    "dat1=dat.head(25) #just a sample which shows top 25 columns\n",
    "dat1.plot(kind='bar',figsize=(10,7))\n",
    "plt.grid(which='major', linestyle='-', linewidth='0.5', color='green')\n",
    "plt.grid(which='minor', linestyle=':', linewidth='0.5', color='black')\n",
    "plt.show()"
   ]
  },
  {
   "cell_type": "markdown",
   "metadata": {},
   "source": [
    "# LASSO Regression"
   ]
  },
  {
   "cell_type": "code",
   "execution_count": null,
   "metadata": {},
   "outputs": [],
   "source": [
    "# Model 2: LASSO Model\n",
    "from sklearn.linear_model import Lasso\n",
    "from sklearn.metrics import mean_squared_error\n",
    "from sklearn import metrics\n",
    "las = Lasso(alpha=0.1)\n",
    "model2 = las.fit(train_X, train_Y)\n",
    "predictions2 = las.predict(test_X)\n",
    "m2=model2.score(test_X, test_Y)\n",
    "RMSE2=np.sqrt(metrics.mean_squared_error(test_Y, predictions2))\n",
    "print('Accuracy of model is', model2.score(test_X, test_Y))\n",
    "print('Mean Absolute Error:', metrics.mean_absolute_error(test_Y, predictions2))  \n",
    "print('Mean Squared Error:', metrics.mean_squared_error(test_Y, predictions2))  \n",
    "print('Root Mean Squared Error:', np.sqrt(metrics.mean_squared_error(test_Y, predictions2)))"
   ]
  },
  {
   "cell_type": "code",
   "execution_count": null,
   "metadata": {},
   "outputs": [],
   "source": [
    "# Feature selection\n",
    "coef1=pd.DataFrame(las.coef_.ravel())\n",
    "coef1['feat']=train_X.columns\n",
    "c1=coef['feat'].rows=['C','Bfs','Fa','W','Sp','Ca','Fa','a']\n",
    "num_colors = 8;\n",
    "colors = cm.rainbow(np.linspace(0,1,num_colors))\n",
    "plt.bar(c1, coef[0], color=colors)\n",
    "plt.show()"
   ]
  },
  {
   "cell_type": "code",
   "execution_count": null,
   "metadata": {},
   "outputs": [],
   "source": [
    "# Plot of true value vs. predicted values\n",
    "dat = pd.DataFrame({'Actual': test_Y, 'Predicted': predictions2})\n",
    "dat1=dat.head(25) #just a sample which shows top 25 columns\n",
    "dat1.plot(kind='bar',figsize=(10,7))\n",
    "plt.grid(which='major', linestyle='-', linewidth='0.5', color='green')\n",
    "plt.grid(which='minor', linestyle=':', linewidth='0.5', color='black')\n",
    "plt.show()"
   ]
  },
  {
   "cell_type": "markdown",
   "metadata": {},
   "source": [
    "# RIDGE Regression"
   ]
  },
  {
   "cell_type": "code",
   "execution_count": null,
   "metadata": {},
   "outputs": [],
   "source": [
    "# Model 3: RIDGE Model\n",
    "from sklearn.linear_model import Ridge\n",
    "from sklearn.metrics import mean_squared_error\n",
    "from sklearn import metrics\n",
    "Rid = Ridge(alpha=0.1)\n",
    "model3 = Rid.fit(train_X, train_Y)\n",
    "predictions3 = Rid.predict(test_X)\n",
    "m3=model3.score(test_X, test_Y)\n",
    "RMSE3=np.sqrt(metrics.mean_squared_error(test_Y, predictions3))\n",
    "print('Accuracy of model is', model3.score(test_X, test_Y))\n",
    "print('Mean Absolute Error:', metrics.mean_absolute_error(test_Y, predictions3))  \n",
    "print('Mean Squared Error:', metrics.mean_squared_error(test_Y, predictions3))  \n",
    "print('Root Mean Squared Error:', np.sqrt(metrics.mean_squared_error(test_Y, predictions3)))"
   ]
  },
  {
   "cell_type": "code",
   "execution_count": null,
   "metadata": {},
   "outputs": [],
   "source": [
    "# Feature selection\n",
    "coef1=pd.DataFrame(Rid.coef_.ravel())\n",
    "coef1['feat']=train_X.columns\n",
    "c1=coef['feat'].rows=['C','Bfs','Fa','W','Sp','Ca','Fa','a']\n",
    "num_colors = 8;\n",
    "colors = cm.rainbow(np.linspace(0,1,num_colors))\n",
    "plt.bar(c1, coef[0], color=colors)\n",
    "plt.show()"
   ]
  },
  {
   "cell_type": "markdown",
   "metadata": {},
   "source": []
  },
  {
   "cell_type": "code",
   "execution_count": null,
   "metadata": {},
   "outputs": [],
   "source": [
    "#Plot of true value vs. predicted values\n",
    "dat = pd.DataFrame({'Actual': test_Y, 'Predicted': predictions3})\n",
    "dat1=dat.head(25) #just a sample which shows top 25 columns\n",
    "dat1.plot(kind='bar',figsize=(10,7))\n",
    "plt.grid(which='major', linestyle='-', linewidth='0.5', color='green')\n",
    "plt.grid(which='minor', linestyle=':', linewidth='0.5', color='black')\n",
    "plt.show()"
   ]
  },
  {
   "cell_type": "markdown",
   "metadata": {},
   "source": [
    "# Random forest regression"
   ]
  },
  {
   "cell_type": "code",
   "execution_count": null,
   "metadata": {},
   "outputs": [],
   "source": [
    "# Model 4: Random forest regression\n",
    "from sklearn.ensemble import RandomForestRegressor\n",
    "from sklearn.metrics import mean_squared_error\n",
    "from sklearn import metrics\n",
    "Rnd = RandomForestRegressor(ccp_alpha=0.0)\n",
    "model4 = Rnd.fit(train_X, train_Y)\n",
    "predictions4 = Rnd.predict(test_X)\n",
    "m4=model4.score(test_X, test_Y)\n",
    "RMSE4=np.sqrt(metrics.mean_squared_error(test_Y, predictions4))\n",
    "print('Accuracy of model is', model4.score(test_X, test_Y))\n",
    "print('Mean Absolute Error:', metrics.mean_absolute_error(test_Y, predictions4))  \n",
    "print('Mean Squared Error:', metrics.mean_squared_error(test_Y, predictions4))  \n",
    "print('Root Mean Squared Error:', np.sqrt(metrics.mean_squared_error(test_Y, predictions4)))"
   ]
  },
  {
   "cell_type": "code",
   "execution_count": null,
   "metadata": {},
   "outputs": [],
   "source": [
    "#Plot of true value vs. predicted values\n",
    "dat = pd.DataFrame({'Actual': test_Y, 'Predicted': predictions4})\n",
    "dat1=dat.head(25) #just a sample which shows top 25 columns\n",
    "dat1.plot(kind='bar',figsize=(10,7))\n",
    "plt.grid(which='major', linestyle='-', linewidth='0.5', color='green')\n",
    "plt.grid(which='minor', linestyle=':', linewidth='0.5', color='black')\n",
    "plt.show()"
   ]
  },
  {
   "cell_type": "code",
   "execution_count": null,
   "metadata": {},
   "outputs": [],
   "source": [
    "x_predict = list(Rnd.predict(test_X))\n",
    "predicted_df = {'predicted_values': x_predict, 'original_values': test_Y}\n",
    "#creating new dataframe\n",
    "pd.DataFrame(predicted_df).head(20)"
   ]
  },
  {
   "cell_type": "markdown",
   "metadata": {},
   "source": [
    "# Decision tree regression"
   ]
  },
  {
   "cell_type": "code",
   "execution_count": null,
   "metadata": {},
   "outputs": [],
   "source": [
    "# Model 5: Decision tree regression\n",
    "from sklearn.tree import DecisionTreeRegressor\n",
    "from sklearn.metrics import mean_squared_error\n",
    "from sklearn import metrics\n",
    "dtr = DecisionTreeRegressor(ccp_alpha=0.0)\n",
    "model5 = dtr.fit(train_X, train_Y)\n",
    "predictions5 = dtr.predict(test_X)\n",
    "m5=model5.score(test_X, test_Y)\n",
    "RMSE5=np.sqrt(metrics.mean_squared_error(test_Y, predictions5))\n",
    "print('Accuracy of model is', model5.score(test_X, test_Y))\n",
    "print('Mean Absolute Error:', metrics.mean_absolute_error(test_Y, predictions5))  \n",
    "print('Mean Squared Error:', metrics.mean_squared_error(test_Y, predictions5))  \n",
    "print('Root Mean Squared Error:', np.sqrt(metrics.mean_squared_error(test_Y, predictions5)))"
   ]
  },
  {
   "cell_type": "code",
   "execution_count": null,
   "metadata": {},
   "outputs": [],
   "source": [
    "#Plot of true value vs. predicted values\n",
    "dat = pd.DataFrame({'Actual': test_Y, 'Predicted': predictions5})\n",
    "dat1=dat.head(25) #just a sample which shows top 25 columns\n",
    "dat1.plot(kind='bar',figsize=(10,7))\n",
    "plt.grid(which='major', linestyle='-', linewidth='0.5', color='green')\n",
    "plt.grid(which='minor', linestyle=':', linewidth='0.5', color='black')\n",
    "plt.show()"
   ]
  },
  {
   "cell_type": "markdown",
   "metadata": {},
   "source": [
    "# KNN regression"
   ]
  },
  {
   "cell_type": "code",
   "execution_count": null,
   "metadata": {},
   "outputs": [],
   "source": [
    "# Model 6: KNN regression\n",
    "from sklearn.neighbors import KNeighborsRegressor\n",
    "from sklearn.metrics import mean_squared_error\n",
    "from sklearn import metrics\n",
    "knn = KNeighborsRegressor(n_neighbors=2)\n",
    "model6 = knn.fit(train_X, train_Y)\n",
    "predictions6 = knn.predict(test_X)\n",
    "m6=model6.score(test_X, test_Y)\n",
    "RMSE6=np.sqrt(metrics.mean_squared_error(test_Y, predictions6))\n",
    "print('Accuracy of model is', model6.score(test_X, test_Y))\n",
    "print('Mean Absolute Error:', metrics.mean_absolute_error(test_Y, predictions6))  \n",
    "print('Mean Squared Error:', metrics.mean_squared_error(test_Y, predictions6))  \n",
    "print('Root Mean Squared Error:', np.sqrt(metrics.mean_squared_error(test_Y, predictions6)))"
   ]
  },
  {
   "cell_type": "code",
   "execution_count": null,
   "metadata": {},
   "outputs": [],
   "source": [
    "#Plot of true value vs. predicted values\n",
    "dat = pd.DataFrame({'Actual': test_Y, 'Predicted': predictions6})\n",
    "dat1=dat.head(25) #just a sample which shows top 25 columns\n",
    "dat1.plot(kind='bar',figsize=(10,7))\n",
    "plt.grid(which='major', linestyle='-', linewidth='0.5', color='green')\n",
    "plt.grid(which='minor', linestyle=':', linewidth='0.5', color='black')\n",
    "plt.show()"
   ]
  },
  {
   "cell_type": "markdown",
   "metadata": {},
   "source": [
    "# SVM regression"
   ]
  },
  {
   "cell_type": "code",
   "execution_count": null,
   "metadata": {},
   "outputs": [],
   "source": [
    "# Model 7: SVM regression\n",
    "from sklearn import svm\n",
    "from sklearn.metrics import mean_squared_error\n",
    "from sklearn import metrics\n",
    "svm= svm.SVR(kernel='linear')\n",
    "model7 = svm.fit(train_X, train_Y)\n",
    "predictions7 = svm.predict(test_X)\n",
    "m7=model7.score(test_X, test_Y)\n",
    "RMSE7=np.sqrt(metrics.mean_squared_error(test_Y, predictions7))\n",
    "print('Accuracy of model is', model7.score(test_X, test_Y))\n",
    "print('Mean Absolute Error:', metrics.mean_absolute_error(test_Y, predictions7))  \n",
    "print('Mean Squared Error:', metrics.mean_squared_error(test_Y, predictions7))  \n",
    "print('Root Mean Squared Error:', np.sqrt(metrics.mean_squared_error(test_Y, predictions7)))"
   ]
  },
  {
   "cell_type": "code",
   "execution_count": null,
   "metadata": {},
   "outputs": [],
   "source": [
    "#Plot of true value vs. predicted values\n",
    "dat = pd.DataFrame({'Actual': test_Y, 'Predicted': predictions7})\n",
    "dat1=dat.head(25) #just a sample which shows top 25 columns\n",
    "dat1.plot(kind='bar',figsize=(10,7))\n",
    "plt.grid(which='major', linestyle='-', linewidth='0.5', color='green')\n",
    "plt.grid(which='minor', linestyle=':', linewidth='0.5', color='black')\n",
    "plt.show()"
   ]
  },
  {
   "cell_type": "markdown",
   "metadata": {},
   "source": [
    "# Model Comparison through Accuracy(%)"
   ]
  },
  {
   "cell_type": "code",
   "execution_count": null,
   "metadata": {},
   "outputs": [],
   "source": [
    "# Model Comparison\n",
    "height = [m1, m2, m3, m4, m5, m6, m7]\n",
    "bars = ('Linear', 'Lasso', 'Ridge', 'Random_Forest', 'Decision_Tree', 'KNN', 'SVM')\n",
    "plt.figure(figsize=(15,5))\n",
    "plt.bar(bars,height,color=colors)\n",
    "plt.xticks(rotation=60)\n",
    "plt.xlabel('Models')\n",
    "plt.ylabel('Accuracy(%)')\n",
    "plt.show()"
   ]
  },
  {
   "cell_type": "markdown",
   "metadata": {},
   "source": [
    "# Observations:\n",
    "From the above bargraph comparision of the list of regressions based on their Accuaracy(%)\n",
    " - Random Forest has the highest accuracy.\n",
    " - KNN has the lowest accuracy."
   ]
  },
  {
   "cell_type": "markdown",
   "metadata": {},
   "source": [
    "# Model Comparison through RMSE(Root mean square error)score"
   ]
  },
  {
   "cell_type": "code",
   "execution_count": null,
   "metadata": {},
   "outputs": [],
   "source": [
    "# Model Comparison\n",
    "height = [RMSE1, RMSE2, RMSE3, RMSE4, RMSE5, RMSE6, RMSE7]\n",
    "bars = ('Linear', 'Lasso', 'Ridge', 'Random_Forest', 'Decision_Tree', 'KNN', 'SVM')\n",
    "plt.figure(figsize=(15,5))\n",
    "plt.bar(bars,height,color=colors)\n",
    "plt.xticks(rotation=60)\n",
    "plt.xlabel('Models')\n",
    "plt.ylabel('RMSE')\n",
    "plt.show()"
   ]
  },
  {
   "cell_type": "markdown",
   "metadata": {},
   "source": [
    "# Observations:\n",
    "From the above plot of the list of regressions based on their RMSE score\n",
    "\n",
    " - Random Forest has the lowest RMSError value.\n",
    " - KNN has the highest RMSError value."
   ]
  },
  {
   "cell_type": "markdown",
   "metadata": {},
   "source": [
    "# Conclusion: Random Forest Regression is the best method that performs well for the concrete dataset.\n",
    "-Random Forest has highest accuracy and lowest RMSE.\n",
    "\n",
    "-Random Forest is the best fit model for this dataset."
   ]
  },
  {
   "cell_type": "code",
   "execution_count": null,
   "metadata": {},
   "outputs": [],
   "source": []
  },
  {
   "cell_type": "code",
   "execution_count": null,
   "metadata": {},
   "outputs": [],
   "source": []
  },
  {
   "cell_type": "code",
   "execution_count": null,
   "metadata": {},
   "outputs": [],
   "source": []
  }
 ],
 "metadata": {
  "kernelspec": {
   "display_name": "Python 3",
   "language": "python",
   "name": "python3"
  },
  "language_info": {
   "codemirror_mode": {
    "name": "ipython",
    "version": 3
   },
   "file_extension": ".py",
   "mimetype": "text/x-python",
   "name": "python",
   "nbconvert_exporter": "python",
   "pygments_lexer": "ipython3",
   "version": "3.7.6"
  }
 },
 "nbformat": 4,
 "nbformat_minor": 4
}
